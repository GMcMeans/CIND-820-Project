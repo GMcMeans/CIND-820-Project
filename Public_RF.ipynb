{
 "cells": [
  {
   "cell_type": "code",
   "execution_count": 6,
   "metadata": {},
   "outputs": [],
   "source": [
    "import pandas as pd\n",
    "import os  \n",
    "import numpy as np\n",
    "from sklearn import linear_model\n",
    "from matplotlib import pyplot\n",
    "from scipy import stats\n",
    "from sklearn.metrics import classification_report\n",
    "from sklearn.model_selection import train_test_split, KFold\n",
    "from sklearn.ensemble import RandomForestRegressor\n",
    "\n",
    "os.chdir('C:\\\\Users\\\\Joey McMeans\\\\Desktop\\\\Joey School 2021')\n",
    "os.getcwd()\n",
    "publicdf = pd.read_csv(\"Elem_Public.csv\")"
   ]
  },
  {
   "cell_type": "code",
   "execution_count": 50,
   "metadata": {},
   "outputs": [],
   "source": [
    "\n",
    "#setting x and y variables for Random Forest Regression\n",
    "x_total = publicdf[[ 'Percentage of Students Whose First Language Is Not English',\n",
    "       'Percentage of Students Whose First Language Is Not French','Percentage of Students Who Are New to Canada from a Non-English Speaking Country',\n",
    "       'Percentage of Students Who Are New to Canada from a Non-French Speaking Country',\n",
    "       'Percentage of School-Aged Children Who Live in Low-Income Households',\n",
    "       'Percentage of Students Whose Parents Have No Degree, Diploma or Certificate']]\n",
    "x1 = publicdf[['Percentage of School-Aged Children Who Live in Low-Income Households',\n",
    "'Percentage of Students Whose Parents Have No Degree, Diploma or Certificate']]\n",
    "x2 = publicdf[['Percentage of Students Whose First Language Is Not English',\n",
    "       'Percentage of Students Whose First Language Is Not French','Percentage of Students Who Are New to Canada from a Non-English Speaking Country',\n",
    "       'Percentage of Students Who Are New to Canada from a Non-French Speaking Country']]\n",
    "x = x_total\n",
    "y_gr3_read = publicdf[\"Percentage of Grade 3 Students Achieving the Provincial Standard in Reading\"]\n",
    "y_gr3_write = publicdf[\"Percentage of Grade 3 Students Achieving the Provincial Standard in Writing\"]\n",
    "y_gr3_math = publicdf[\"Percentage of Grade 3 Students Achieving the Provincial Standard in Mathematics\"]\n",
    "y_gr6_read = publicdf[\"Percentage of Grade 6 Students Achieving the Provincial Standard in Reading\"]\n",
    "y_gr6_write = publicdf[\"Percentage of Grade 6 Students Achieving the Provincial Standard in Writing\"]\n",
    "y_gr6_math = publicdf[\"Percentage of Grade 6 Students Achieving the Provincial Standard in Mathematics\"]\n",
    "\n",
    "y_1 = y_gr3_read\n",
    "y_2 = y_gr3_write\n",
    "y_3 = y_gr3_math\n",
    "y_4 =  y_gr6_read\n",
    "y_5 = y_gr6_write\n",
    "y_6 = y_gr6_math\n",
    "#splitting train and test sets for y variables\n",
    "X_train, X_test, Y_1_train, Y_1_test = train_test_split(x, y_1, test_size=0.33, random_state=1)\n",
    "X_2train, X_2test, Y_2_train, Y_2_test = train_test_split(x, y_2, test_size=0.33, random_state=2)\n",
    "X_3train, X_3test, Y_3_train, Y_3_test = train_test_split(x, y_3, test_size=0.33, random_state=3)\n",
    "X_4train, X_4test, Y_4_train, Y_4_test = train_test_split(x, y_4, test_size=0.33, random_state=4)\n",
    "X_5train, X_5test, Y_5_train, Y_5_test = train_test_split(x, y_5, test_size=0.33, random_state=5)\n",
    "X_6train, X_6test, Y_6_train, Y_6_test = train_test_split(x, y_6, test_size=0.33, random_state=6)"
   ]
  },
  {
   "cell_type": "code",
   "execution_count": 51,
   "metadata": {},
   "outputs": [
    {
     "name": "stdout",
     "output_type": "stream",
     "text": [
      "The RF scores are: 0.10467638440723237 0.25720327671144694 -0.3676315322224819 -0.0957316040039573 0.09735673794365984 -1.1628193977255856\n"
     ]
    }
   ],
   "source": [
    "#running RF regression for y variables\n",
    "rf = RandomForestRegressor(random_state = 12)\n",
    "rf.fit(X_train,Y_1_train)\n",
    "y1score = rf.score(X_test,Y_1_test)\n",
    "y2score = rf.score(X_2test,Y_2_test)\n",
    "y3score = rf.score(X_3test,Y_3_test)\n",
    "y4score = rf.score(X_4test,Y_4_test)\n",
    "y5score = rf.score(X_5test,Y_5_test)\n",
    "y6score = rf.score(X_6test,Y_6_test)\n",
    "print(\"The RF scores are:\", y1score,y2score,y3score,y4score,y5score,y6score)"
   ]
  }
 ],
 "metadata": {
  "kernelspec": {
   "display_name": "Python 3.10.0 64-bit",
   "language": "python",
   "name": "python3"
  },
  "language_info": {
   "codemirror_mode": {
    "name": "ipython",
    "version": 3
   },
   "file_extension": ".py",
   "mimetype": "text/x-python",
   "name": "python",
   "nbconvert_exporter": "python",
   "pygments_lexer": "ipython3",
   "version": "3.10.0"
  },
  "orig_nbformat": 4,
  "vscode": {
   "interpreter": {
    "hash": "9e9ffc9a5c38d8c76e63580f0cc4527c01c1c66d95702a45cbfd39664d754ffa"
   }
  }
 },
 "nbformat": 4,
 "nbformat_minor": 2
}
