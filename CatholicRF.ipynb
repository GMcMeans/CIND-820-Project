{
 "cells": [
  {
   "cell_type": "code",
   "execution_count": 2,
   "metadata": {},
   "outputs": [],
   "source": [
    "#Catholic Random Forest Model\n",
    "import pandas as pd\n",
    "import os  \n",
    "import numpy as np\n",
    "from sklearn import linear_model\n",
    "from matplotlib import pyplot\n",
    "from scipy import stats\n",
    "from sklearn.metrics import classification_report, mean_squared_error\n",
    "from sklearn.model_selection import train_test_split, KFold\n",
    "from sklearn.ensemble import RandomForestRegressor\n",
    "\n",
    "os.chdir('C:\\\\Users\\\\Joey McMeans\\\\Desktop\\\\Joey School 2021')\n",
    "os.getcwd()\n",
    "cathdf = pd.read_csv(\"Elem_Catholic.csv\")"
   ]
  },
  {
   "cell_type": "code",
   "execution_count": 3,
   "metadata": {},
   "outputs": [],
   "source": [
    "\n",
    "#setting x and y variables for Random Forest Regression\n",
    "x_total = cathdf[[ 'Percentage of Students Whose First Language Is Not English',\n",
    "       'Percentage of Students Whose First Language Is Not French','Percentage of Students Who Are New to Canada from a Non-English Speaking Country',\n",
    "       'Percentage of Students Who Are New to Canada from a Non-French Speaking Country',\n",
    "       'Percentage of School-Aged Children Who Live in Low-Income Households',\n",
    "       'Percentage of Students Whose Parents Have No Degree, Diploma or Certificate']]\n",
    "x1 = cathdf[['Percentage of School-Aged Children Who Live in Low-Income Households',\n",
    "'Percentage of Students Whose Parents Have No Degree, Diploma or Certificate']]\n",
    "x2 = cathdf[['Percentage of Students Whose First Language Is Not English',\n",
    "       'Percentage of Students Whose First Language Is Not French','Percentage of Students Who Are New to Canada from a Non-English Speaking Country',\n",
    "       'Percentage of Students Who Are New to Canada from a Non-French Speaking Country']]\n",
    "x = x_total\n",
    "y_gr3_read = cathdf[\"Percentage of Grade 3 Students Achieving the Provincial Standard in Reading\"]\n",
    "y_gr3_write = cathdf[\"Percentage of Grade 3 Students Achieving the Provincial Standard in Writing\"]\n",
    "y_gr3_math = cathdf[\"Percentage of Grade 3 Students Achieving the Provincial Standard in Mathematics\"]\n",
    "y_gr6_read = cathdf[\"Percentage of Grade 6 Students Achieving the Provincial Standard in Reading\"]\n",
    "y_gr6_write = cathdf[\"Percentage of Grade 6 Students Achieving the Provincial Standard in Writing\"]\n",
    "y_gr6_math = cathdf[\"Percentage of Grade 6 Students Achieving the Provincial Standard in Mathematics\"]\n",
    "\n",
    "y_1 = y_gr3_read\n",
    "y_2 = y_gr3_write\n",
    "y_3 = y_gr3_math\n",
    "y_4 =  y_gr6_read\n",
    "y_5 = y_gr6_write\n",
    "y_6 = y_gr6_math\n",
    "#splitting train and test sets for y variables\n",
    "X_train, X_test, Y_1_train, Y_1_test = train_test_split(x, y_1, test_size=0.33, random_state=1)\n",
    "X_2train, X_2test, Y_2_train, Y_2_test = train_test_split(x, y_2, test_size=0.33, random_state=2)\n",
    "X_3train, X_3test, Y_3_train, Y_3_test = train_test_split(x, y_3, test_size=0.33, random_state=3)\n",
    "X_4train, X_4test, Y_4_train, Y_4_test = train_test_split(x, y_4, test_size=0.33, random_state=4)\n",
    "X_5train, X_5test, Y_5_train, Y_5_test = train_test_split(x, y_5, test_size=0.33, random_state=5)\n",
    "X_6train, X_6test, Y_6_train, Y_6_test = train_test_split(x, y_6, test_size=0.33, random_state=6)"
   ]
  },
  {
   "cell_type": "code",
   "execution_count": 9,
   "metadata": {},
   "outputs": [
    {
     "name": "stdout",
     "output_type": "stream",
     "text": [
      "0.014480974302652546\n",
      "0.12033691994833733\n",
      "0.15150572464553957\n"
     ]
    }
   ],
   "source": [
    "#running RF regression for y variables\n",
    "rf = RandomForestRegressor(n_estimators =300,random_state = 12,max_depth=5,max_features='sqrt')\n",
    "rf.fit(X_train,Y_1_train)\n",
    "y1score = rf.score(X_test,Y_1_test)\n",
    "prediction = rf.predict(X_test)\n",
    "mse = mean_squared_error(Y_1_test,prediction)\n",
    "rmse = mse**.5\n",
    "print(mse)\n",
    "print(rmse)\n",
    "print(y1score)"
   ]
  },
  {
   "cell_type": "code",
   "execution_count": 12,
   "metadata": {},
   "outputs": [
    {
     "name": "stdout",
     "output_type": "stream",
     "text": [
      "0.02434477357030758\n",
      "0.04581100966550544\n",
      "0.15602811788362883\n"
     ]
    }
   ],
   "source": [
    "rf = RandomForestRegressor(n_estimators =300,random_state = 12,max_depth=5,max_features='sqrt')\n",
    "rf.fit(X_2train,Y_2_train)\n",
    "y2score = rf.score(X_2test,Y_2_test)\n",
    "y2score\n",
    "prediction = rf.predict(X_2test)\n",
    "mse = mean_squared_error(Y_2_test,prediction)\n",
    "rmse = mse**.5\n",
    "print(mse)\n",
    "print(y2score)\n",
    "print(rmse)"
   ]
  },
  {
   "cell_type": "code",
   "execution_count": 10,
   "metadata": {},
   "outputs": [
    {
     "name": "stdout",
     "output_type": "stream",
     "text": [
      "0.05794189604928178\n",
      "0.2428817501618462\n",
      "0.24071122958699243\n"
     ]
    }
   ],
   "source": [
    "rf = RandomForestRegressor(n_estimators =300,random_state = 12,max_depth=5,max_features='sqrt')\n",
    "rf.fit(X_3train,Y_3_train)\n",
    "y3score = rf.score(X_3test,Y_3_test)\n",
    "y3scoreprediction = rf.predict(X_3test)\n",
    "mse = mean_squared_error(Y_3_test,prediction)\n",
    "rmse = mse**.5\n",
    "print(mse)\n",
    "print(y3score)\n",
    "print(rmse)"
   ]
  },
  {
   "cell_type": "code",
   "execution_count": 13,
   "metadata": {},
   "outputs": [
    {
     "name": "stdout",
     "output_type": "stream",
     "text": [
      "0.2371571373127831\n",
      "0.010089047669599881\n",
      "0.10044425155079748\n"
     ]
    }
   ],
   "source": [
    "rf = RandomForestRegressor(n_estimators =300,random_state = 12,max_depth=5,max_features='sqrt')\n",
    "rf.fit(X_4train,Y_4_train)\n",
    "y4score = rf.score(X_4test,Y_4_test)\n",
    "print(y4score)\n",
    "prediction = rf.predict(X_4test)\n",
    "mse = mean_squared_error(Y_4_test,prediction)\n",
    "rmse = mse**.5\n",
    "print(mse)\n",
    "print(rmse)"
   ]
  },
  {
   "cell_type": "code",
   "execution_count": 14,
   "metadata": {},
   "outputs": [
    {
     "name": "stdout",
     "output_type": "stream",
     "text": [
      "0.017352473419991007\n",
      "0.13172878736248583\n",
      "0.15640998474294943\n"
     ]
    }
   ],
   "source": [
    "rf = RandomForestRegressor(n_estimators =300,random_state = 12,max_depth=5,max_features='sqrt')\n",
    "rf.fit(X_5train,Y_5_train)\n",
    "y5score = rf.score(X_5test,Y_5_test)\n",
    "y5scoreprediction = rf.predict(X_5test)\n",
    "mse = mean_squared_error(Y_5_test,prediction)\n",
    "rmse = mse**.5\n",
    "print(mse)\n",
    "print(rmse)\n",
    "print(y5score)"
   ]
  },
  {
   "cell_type": "code",
   "execution_count": 15,
   "metadata": {},
   "outputs": [
    {
     "name": "stdout",
     "output_type": "stream",
     "text": [
      "0.15504215864376164\n",
      "0.3937539315914974\n",
      "0.4265286999521988\n"
     ]
    }
   ],
   "source": [
    "rf = RandomForestRegressor(n_estimators =300,random_state = 12,max_depth=5,max_features='sqrt')\n",
    "rf.fit(X_6train,Y_6_train)\n",
    "y6score = rf.score(X_6test,Y_6_test)\n",
    "y6scoreprediction = rf.predict(X_6test)\n",
    "mse = mean_squared_error(Y_6_test,prediction)\n",
    "rmse = mse**.5  \n",
    "print(mse)\n",
    "print(rmse) \n",
    "print(y6score)"
   ]
  }
 ],
 "metadata": {
  "kernelspec": {
   "display_name": "Python 3.10.0 64-bit",
   "language": "python",
   "name": "python3"
  },
  "language_info": {
   "codemirror_mode": {
    "name": "ipython",
    "version": 3
   },
   "file_extension": ".py",
   "mimetype": "text/x-python",
   "name": "python",
   "nbconvert_exporter": "python",
   "pygments_lexer": "ipython3",
   "version": "3.10.0"
  },
  "orig_nbformat": 4,
  "vscode": {
   "interpreter": {
    "hash": "9e9ffc9a5c38d8c76e63580f0cc4527c01c1c66d95702a45cbfd39664d754ffa"
   }
  }
 },
 "nbformat": 4,
 "nbformat_minor": 2
}
