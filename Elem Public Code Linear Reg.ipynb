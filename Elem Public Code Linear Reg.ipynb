{
 "cells": [
  {
   "cell_type": "code",
   "execution_count": 2,
   "metadata": {},
   "outputs": [
    {
     "data": {
      "image/png": "[encoded data removed]",
      "text/plain": [
       "<Figure size 432x288 with 1 Axes>"
      ]
     },
     "metadata": {
      "needs_background": "light"
     },
     "output_type": "display_data"
    },
    {
     "name": "stdout",
     "output_type": "stream",
     "text": [
      "Percentage of Students Who Are New to Canada from a Non-English Speaking Country    0.056102\n",
      "dtype: float64\n",
      "Percentage of Students Who Are New to Canada from a Non-English Speaking Country    0.04\n",
      "dtype: float64\n",
      "   Percentage of Students Who Are New to Canada from a Non-English Speaking Country\n",
      "0                                                0.0                               \n",
      "Percentage of Students Who Are New to Canada from a Non-French Speaking Country    0.056764\n",
      "dtype: float64\n",
      "Percentage of Students Who Are New to Canada from a Non-French Speaking Country    0.05\n",
      "dtype: float64\n",
      "   Percentage of Students Who Are New to Canada from a Non-French Speaking Country\n",
      "0                                                0.0                              \n"
     ]
    }
   ],
   "source": [
    "import seaborn as sns\n",
    "import pandas as pd\n",
    "import os  \n",
    "import numpy as np\n",
    "from sklearn import linear_model\n",
    "from matplotlib import pyplot\n",
    "from scipy import stats\n",
    "\n",
    "from sklearn.metrics import classification_report\n",
    "from sklearn.model_selection import train_test_split\n",
    "os.chdir('C:\\\\Users\\\\Joey McMeans\\\\Desktop\\\\Joey School 2021')\n",
    "os.getcwd()\n",
    "publicdf = pd.read_csv(\"Elem_Public.csv\")\n",
    "publicdf.isnull().sum()\n",
    "#Checking normality of independent variables - Country\n",
    "pyplot.hist(publicdf[['Percentage of Students Who Are New to Canada from a Non-English Speaking Country']])\n",
    "pyplot.hist(publicdf[['Percentage of Students Who Are New to Canada from a Non-French Speaking Country']])\n",
    "pyplot.show()\n",
    "#strong positive skew for both\n",
    "#confirming skew\n",
    "print(publicdf[['Percentage of Students Who Are New to Canada from a Non-English Speaking Country']].mean())\n",
    "print(publicdf[['Percentage of Students Who Are New to Canada from a Non-English Speaking Country']].median())\n",
    "print(publicdf[['Percentage of Students Who Are New to Canada from a Non-English Speaking Country']].mode())\n",
    "print(publicdf[['Percentage of Students Who Are New to Canada from a Non-French Speaking Country']].mean())\n",
    "print(publicdf[['Percentage of Students Who Are New to Canada from a Non-French Speaking Country']].median())\n",
    "print(publicdf[['Percentage of Students Who Are New to Canada from a Non-French Speaking Country']].mode())\n"
   ]
  },
  {
   "cell_type": "code",
   "execution_count": null,
   "metadata": {},
   "outputs": [],
   "source": []
  },
  {
   "cell_type": "code",
   "execution_count": 3,
   "metadata": {},
   "outputs": [
    {
     "name": "stdout",
     "output_type": "stream",
     "text": [
      "Percentage of Students Whose First Language Is Not English    0.220885\n",
      "dtype: float64\n",
      "Percentage of Students Whose First Language Is Not English    0.11\n",
      "dtype: float64\n",
      "   Percentage of Students Whose First Language Is Not English\n",
      "0                                                0.0         \n",
      "Percentage of Students Whose First Language Is Not French    0.981553\n",
      "dtype: float64\n",
      "Percentage of Students Whose First Language Is Not French    1.0\n",
      "dtype: float64\n",
      "   Percentage of Students Whose First Language Is Not French\n",
      "0                                                1.0        \n"
     ]
    },
    {
     "data": {
      "image/png": "[encoded data removed]",
      "text/plain": [
       "<Figure size 432x288 with 1 Axes>"
      ]
     },
     "metadata": {
      "needs_background": "light"
     },
     "output_type": "display_data"
    }
   ],
   "source": [
    "#Checking Normality of variables - Languages\n",
    "pyplot.hist(publicdf[['Percentage of Students Whose First Language Is Not English']])\n",
    "pyplot.hist(publicdf[['Percentage of Students Whose First Language Is Not French']])\n",
    "#positive skew for english,  strong negative skew for french\n",
    "#confirming skew\n",
    "print(publicdf[['Percentage of Students Whose First Language Is Not English']].mean())\n",
    "print(publicdf[['Percentage of Students Whose First Language Is Not English']].median())\n",
    "print(publicdf[['Percentage of Students Whose First Language Is Not English']].mode())\n",
    "print(publicdf[['Percentage of Students Whose First Language Is Not French']].mean())\n",
    "print(publicdf[['Percentage of Students Whose First Language Is Not French']].median())\n",
    "print(publicdf[['Percentage of Students Whose First Language Is Not French']].mode())"
   ]
  },
  {
   "cell_type": "code",
   "execution_count": 4,
   "metadata": {},
   "outputs": [
    {
     "name": "stdout",
     "output_type": "stream",
     "text": [
      "Percentage of School-Aged Children Who Live in Low-Income Households    0.186878\n",
      "dtype: float64\n",
      "Percentage of School-Aged Children Who Live in Low-Income Households    0.15\n",
      "dtype: float64\n",
      "   Percentage of School-Aged Children Who Live in Low-Income Households\n",
      "0                                                0.1                   \n"
     ]
    },
    {
     "data": {
      "image/png": "[encoded data removed]",
      "text/plain": [
       "<Figure size 432x288 with 1 Axes>"
      ]
     },
     "metadata": {
      "needs_background": "light"
     },
     "output_type": "display_data"
    }
   ],
   "source": [
    "#Checking normality of variables - income\n",
    "pyplot.hist(publicdf[[\"Percentage of School-Aged Children Who Live in Low-Income Households\"]])\n",
    "# slight positive skew\n",
    "#confirming skew\n",
    "print(publicdf[[\"Percentage of School-Aged Children Who Live in Low-Income Households\"]].mean())\n",
    "print(publicdf[[\"Percentage of School-Aged Children Who Live in Low-Income Households\"]].median())\n",
    "print(publicdf[[\"Percentage of School-Aged Children Who Live in Low-Income Households\"]].mode())"
   ]
  },
  {
   "cell_type": "code",
   "execution_count": 5,
   "metadata": {},
   "outputs": [
    {
     "name": "stdout",
     "output_type": "stream",
     "text": [
      "Percentage of Students Whose Parents Have No Degree, Diploma or Certificate    0.061707\n",
      "dtype: float64\n",
      "Percentage of Students Whose Parents Have No Degree, Diploma or Certificate    0.05\n",
      "dtype: float64\n",
      "   Percentage of Students Whose Parents Have No Degree, Diploma or Certificate\n",
      "0                                                0.0                          \n"
     ]
    },
    {
     "data": {
      "image/png": "[encoded data removed]",
      "text/plain": [
       "<Figure size 432x288 with 1 Axes>"
      ]
     },
     "metadata": {
      "needs_background": "light"
     },
     "output_type": "display_data"
    }
   ],
   "source": [
    "#Checking Normality of independent variables - parent education\n",
    "pyplot.hist(publicdf[[\"Percentage of Students Whose Parents Have No Degree, Diploma or Certificate\"]])\n",
    "#positive skew - strong\n",
    "#confirming skew\n",
    "print(publicdf[[\"Percentage of Students Whose Parents Have No Degree, Diploma or Certificate\"]].mean())\n",
    "print(publicdf[[\"Percentage of Students Whose Parents Have No Degree, Diploma or Certificate\"]].median())\n",
    "print(publicdf[[\"Percentage of Students Whose Parents Have No Degree, Diploma or Certificate\"]].mode())"
   ]
  },
  {
   "cell_type": "code",
   "execution_count": 6,
   "metadata": {},
   "outputs": [
    {
     "name": "stdout",
     "output_type": "stream",
     "text": [
      "Percentage of Grade 3 Students Achieving the Provincial Standard in Reading    0.724212\n",
      "dtype: float64\n",
      "Percentage of Grade 3 Students Achieving the Provincial Standard in Reading    0.75\n",
      "dtype: float64\n",
      "   Percentage of Grade 3 Students Achieving the Provincial Standard in Reading\n",
      "0                                               0.77                          \n"
     ]
    },
    {
     "data": {
      "image/png": "[encoded data removed]",
      "text/plain": [
       "<Figure size 432x288 with 1 Axes>"
      ]
     },
     "metadata": {
      "needs_background": "light"
     },
     "output_type": "display_data"
    }
   ],
   "source": [
    "#dependant variable normality\n",
    "pyplot.hist(publicdf[[\"Percentage of Grade 3 Students Achieving the Provincial Standard in Reading\"]])\n",
    "#negative skew\n",
    "print(publicdf[[\"Percentage of Grade 3 Students Achieving the Provincial Standard in Reading\"]].mean())\n",
    "print(publicdf[[\"Percentage of Grade 3 Students Achieving the Provincial Standard in Reading\"]].median())\n",
    "print(publicdf[[\"Percentage of Grade 3 Students Achieving the Provincial Standard in Reading\"]].mode())"
   ]
  },
  {
   "cell_type": "code",
   "execution_count": 7,
   "metadata": {},
   "outputs": [
    {
     "name": "stdout",
     "output_type": "stream",
     "text": [
      "Percentage of Grade 3 Students Achieving the Provincial Standard in Writing    0.66274\n",
      "dtype: float64\n",
      "Percentage of Grade 3 Students Achieving the Provincial Standard in Writing    0.69\n",
      "dtype: float64\n",
      "   Percentage of Grade 3 Students Achieving the Provincial Standard in Writing\n",
      "0                                               0.71                          \n"
     ]
    },
    {
     "data": {
      "image/png": "[encoded data removed]",
      "text/plain": [
       "<Figure size 432x288 with 1 Axes>"
      ]
     },
     "metadata": {
      "needs_background": "light"
     },
     "output_type": "display_data"
    }
   ],
   "source": [
    "pyplot.hist(publicdf[[\"Percentage of Grade 3 Students Achieving the Provincial Standard in Writing\"]])\n",
    "#negative skew\n",
    "print(publicdf[[\"Percentage of Grade 3 Students Achieving the Provincial Standard in Writing\"]].mean())\n",
    "print(publicdf[[\"Percentage of Grade 3 Students Achieving the Provincial Standard in Writing\"]].median())\n",
    "print(publicdf[[\"Percentage of Grade 3 Students Achieving the Provincial Standard in Writing\"]].mode())"
   ]
  },
  {
   "cell_type": "code",
   "execution_count": 8,
   "metadata": {},
   "outputs": [
    {
     "name": "stdout",
     "output_type": "stream",
     "text": [
      "Percentage of Grade 3 Students Achieving the Provincial Standard in Mathematics    0.571866\n",
      "dtype: float64\n",
      "Percentage of Grade 3 Students Achieving the Provincial Standard in Mathematics    0.59\n",
      "dtype: float64\n",
      "   Percentage of Grade 3 Students Achieving the Provincial Standard in Mathematics\n",
      "0                                                0.5                              \n"
     ]
    },
    {
     "data": {
      "image/png": "[encoded data removed]",
      "text/plain": [
       "<Figure size 432x288 with 1 Axes>"
      ]
     },
     "metadata": {
      "needs_background": "light"
     },
     "output_type": "display_data"
    }
   ],
   "source": [
    "pyplot.hist(publicdf[[\"Percentage of Grade 3 Students Achieving the Provincial Standard in Mathematics\"]])\n",
    "#almost normal - closer to negative\n",
    "print(publicdf[[\"Percentage of Grade 3 Students Achieving the Provincial Standard in Mathematics\"]].mean())\n",
    "print(publicdf[[\"Percentage of Grade 3 Students Achieving the Provincial Standard in Mathematics\"]].median())\n",
    "print(publicdf[[\"Percentage of Grade 3 Students Achieving the Provincial Standard in Mathematics\"]].mode())"
   ]
  },
  {
   "cell_type": "code",
   "execution_count": 9,
   "metadata": {},
   "outputs": [
    {
     "name": "stdout",
     "output_type": "stream",
     "text": [
      "Percentage of Grade 6 Students Achieving the Provincial Standard in Reading    0.794452\n",
      "dtype: float64\n",
      "Percentage of Grade 6 Students Achieving the Provincial Standard in Reading    0.82\n",
      "dtype: float64\n",
      "   Percentage of Grade 6 Students Achieving the Provincial Standard in Reading\n",
      "0                                               0.88                          \n"
     ]
    },
    {
     "data": {
      "image/png": "[encoded data removed]",
      "text/plain": [
       "<Figure size 432x288 with 1 Axes>"
      ]
     },
     "metadata": {
      "needs_background": "light"
     },
     "output_type": "display_data"
    }
   ],
   "source": [
    "pyplot.hist(publicdf[[\"Percentage of Grade 6 Students Achieving the Provincial Standard in Reading\"]])\n",
    "#strong negative\n",
    "print(publicdf[[\"Percentage of Grade 6 Students Achieving the Provincial Standard in Reading\"]].mean())\n",
    "print(publicdf[[\"Percentage of Grade 6 Students Achieving the Provincial Standard in Reading\"]].median())\n",
    "print(publicdf[[\"Percentage of Grade 6 Students Achieving the Provincial Standard in Reading\"]].mode())"
   ]
  },
  {
   "cell_type": "code",
   "execution_count": 10,
   "metadata": {},
   "outputs": [
    {
     "name": "stdout",
     "output_type": "stream",
     "text": [
      "Percentage of Grade 6 Students Achieving the Provincial Standard in Writing    0.786581\n",
      "dtype: float64\n",
      "Percentage of Grade 6 Students Achieving the Provincial Standard in Writing    0.81\n",
      "dtype: float64\n",
      "   Percentage of Grade 6 Students Achieving the Provincial Standard in Writing\n",
      "0                                               0.88                          \n"
     ]
    },
    {
     "data": {
      "image/png": "[encoded data removed]",
      "text/plain": [
       "<Figure size 432x288 with 1 Axes>"
      ]
     },
     "metadata": {
      "needs_background": "light"
     },
     "output_type": "display_data"
    }
   ],
   "source": [
    "pyplot.hist(publicdf[[\"Percentage of Grade 6 Students Achieving the Provincial Standard in Writing\"]])\n",
    "#negative skew\n",
    "print(publicdf[[\"Percentage of Grade 6 Students Achieving the Provincial Standard in Writing\"]].mean())\n",
    "print(publicdf[[\"Percentage of Grade 6 Students Achieving the Provincial Standard in Writing\"]].median())\n",
    "print(publicdf[[\"Percentage of Grade 6 Students Achieving the Provincial Standard in Writing\"]].mode())"
   ]
  },
  {
   "cell_type": "code",
   "execution_count": 11,
   "metadata": {},
   "outputs": [
    {
     "name": "stdout",
     "output_type": "stream",
     "text": [
      "Percentage of Grade 6 Students Achieving the Provincial Standard in Mathematics    0.470942\n",
      "dtype: float64\n",
      "Percentage of Grade 6 Students Achieving the Provincial Standard in Mathematics    0.47\n",
      "dtype: float64\n",
      "   Percentage of Grade 6 Students Achieving the Provincial Standard in Mathematics\n",
      "0                                               0.59                              \n"
     ]
    },
    {
     "data": {
      "image/png": "[encoded data removed]",
      "text/plain": [
       "<Figure size 432x288 with 1 Axes>"
      ]
     },
     "metadata": {
      "needs_background": "light"
     },
     "output_type": "display_data"
    }
   ],
   "source": [
    "pyplot.hist(publicdf[[\"Percentage of Grade 6 Students Achieving the Provincial Standard in Mathematics\"]])\n",
    "#almost normal - more positive\n",
    "print(publicdf[[\"Percentage of Grade 6 Students Achieving the Provincial Standard in Mathematics\"]].mean())\n",
    "print(publicdf[[\"Percentage of Grade 6 Students Achieving the Provincial Standard in Mathematics\"]].median())\n",
    "print(publicdf[[\"Percentage of Grade 6 Students Achieving the Provincial Standard in Mathematics\"]].mode())"
   ]
  },
  {
   "cell_type": "code",
   "execution_count": 46,
   "metadata": {},
   "outputs": [
    {
     "data": {
      "text/plain": [
       "<AxesSubplot:>"
      ]
     },
     "execution_count": 46,
     "metadata": {},
     "output_type": "execute_result"
    },
    {
     "data": {
      "image/png": "[encoded data removed]",
      "text/plain": [
       "<Figure size 432x288 with 2 Axes>"
      ]
     },
     "metadata": {
      "needs_background": "light"
     },
     "output_type": "display_data"
    }
   ],
   "source": [
    "#correlating variables\n",
    "cormatrix = publicdf.corr(method = 'pearson')\n",
    "sns.heatmap(cormatrix)"
   ]
  },
  {
   "cell_type": "code",
   "execution_count": 51,
   "metadata": {},
   "outputs": [
    {
     "data": {
      "text/html": [
       "<div>\n",
       "<style scoped>\n",
       "    .dataframe tbody tr th:only-of-type {\n",
       "        vertical-align: middle;\n",
       "    }\n",
       "\n",
       "    .dataframe tbody tr th {\n",
       "        vertical-align: top;\n",
       "    }\n",
       "\n",
       "    .dataframe thead th {\n",
       "        text-align: right;\n",
       "    }\n",
       "</style>\n",
       "<table border=\"1\" class=\"dataframe\">\n",
       "  <thead>\n",
       "    <tr style=\"text-align: right;\">\n",
       "      <th></th>\n",
       "      <th>Percentage of Students Whose First Language Is Not English</th>\n",
       "      <th>Percentage of Students Whose First Language Is Not French</th>\n",
       "      <th>Percentage of Students Who Are New to Canada from a Non-English Speaking Country</th>\n",
       "      <th>Percentage of Students Who Are New to Canada from a Non-French Speaking Country</th>\n",
       "      <th>Percentage of School-Aged Children Who Live in Low-Income Households</th>\n",
       "      <th>Percentage of Students Whose Parents Have No Degree, Diploma or Certificate</th>\n",
       "    </tr>\n",
       "  </thead>\n",
       "  <tbody>\n",
       "    <tr>\n",
       "      <th>mean</th>\n",
       "      <td>0.220885</td>\n",
       "      <td>0.981553</td>\n",
       "      <td>0.056102</td>\n",
       "      <td>0.056764</td>\n",
       "      <td>0.186878</td>\n",
       "      <td>0.061707</td>\n",
       "    </tr>\n",
       "    <tr>\n",
       "      <th>sum</th>\n",
       "      <td>386.990000</td>\n",
       "      <td>1719.680000</td>\n",
       "      <td>98.290000</td>\n",
       "      <td>99.450000</td>\n",
       "      <td>327.410000</td>\n",
       "      <td>108.110000</td>\n",
       "    </tr>\n",
       "    <tr>\n",
       "      <th>min</th>\n",
       "      <td>0.000000</td>\n",
       "      <td>0.100000</td>\n",
       "      <td>0.000000</td>\n",
       "      <td>0.000000</td>\n",
       "      <td>0.000000</td>\n",
       "      <td>0.000000</td>\n",
       "    </tr>\n",
       "    <tr>\n",
       "      <th>max</th>\n",
       "      <td>0.950000</td>\n",
       "      <td>1.000000</td>\n",
       "      <td>0.450000</td>\n",
       "      <td>0.450000</td>\n",
       "      <td>0.710000</td>\n",
       "      <td>0.600000</td>\n",
       "    </tr>\n",
       "  </tbody>\n",
       "</table>\n",
       "</div>"
      ],
      "text/plain": [
       "      Percentage of Students Whose First Language Is Not English  \\\n",
       "mean                                           0.220885            \n",
       "sum                                          386.990000            \n",
       "min                                            0.000000            \n",
       "max                                            0.950000            \n",
       "\n",
       "      Percentage of Students Whose First Language Is Not French  \\\n",
       "mean                                           0.981553           \n",
       "sum                                         1719.680000           \n",
       "min                                            0.100000           \n",
       "max                                            1.000000           \n",
       "\n",
       "      Percentage of Students Who Are New to Canada from a Non-English Speaking Country  \\\n",
       "mean                                           0.056102                                  \n",
       "sum                                           98.290000                                  \n",
       "min                                            0.000000                                  \n",
       "max                                            0.450000                                  \n",
       "\n",
       "      Percentage of Students Who Are New to Canada from a Non-French Speaking Country  \\\n",
       "mean                                           0.056764                                 \n",
       "sum                                           99.450000                                 \n",
       "min                                            0.000000                                 \n",
       "max                                            0.450000                                 \n",
       "\n",
       "      Percentage of School-Aged Children Who Live in Low-Income Households  \\\n",
       "mean                                           0.186878                      \n",
       "sum                                          327.410000                      \n",
       "min                                            0.000000                      \n",
       "max                                            0.710000                      \n",
       "\n",
       "      Percentage of Students Whose Parents Have No Degree, Diploma or Certificate  \n",
       "mean                                           0.061707                            \n",
       "sum                                          108.110000                            \n",
       "min                                            0.000000                            \n",
       "max                                            0.600000                            "
      ]
     },
     "execution_count": 51,
     "metadata": {},
     "output_type": "execute_result"
    }
   ],
   "source": [
    "#aggregating data for predictor variables \n",
    "publicdf[[ 'Percentage of Students Whose First Language Is Not English',\n",
    "       'Percentage of Students Whose First Language Is Not French','Percentage of Students Who Are New to Canada from a Non-English Speaking Country',\n",
    "       'Percentage of Students Who Are New to Canada from a Non-French Speaking Country',\n",
    "       'Percentage of School-Aged Children Who Live in Low-Income Households',\n",
    "       'Percentage of Students Whose Parents Have No Degree, Diploma or Certificate']].aggregate({sum,min,max,np.mean})\n"
   ]
  },
  {
   "cell_type": "code",
   "execution_count": 52,
   "metadata": {},
   "outputs": [
    {
     "data": {
      "text/html": [
       "<div>\n",
       "<style scoped>\n",
       "    .dataframe tbody tr th:only-of-type {\n",
       "        vertical-align: middle;\n",
       "    }\n",
       "\n",
       "    .dataframe tbody tr th {\n",
       "        vertical-align: top;\n",
       "    }\n",
       "\n",
       "    .dataframe thead th {\n",
       "        text-align: right;\n",
       "    }\n",
       "</style>\n",
       "<table border=\"1\" class=\"dataframe\">\n",
       "  <thead>\n",
       "    <tr style=\"text-align: right;\">\n",
       "      <th></th>\n",
       "      <th>Percentage of Grade 3 Students Achieving the Provincial Standard in Reading</th>\n",
       "      <th>Percentage of Grade 3 Students Achieving the Provincial Standard in Writing</th>\n",
       "      <th>Percentage of Grade 3 Students Achieving the Provincial Standard in Mathematics</th>\n",
       "      <th>Percentage of Grade 6 Students Achieving the Provincial Standard in Reading</th>\n",
       "      <th>Percentage of Grade 6 Students Achieving the Provincial Standard in Writing</th>\n",
       "      <th>Percentage of Grade 6 Students Achieving the Provincial Standard in Mathematics</th>\n",
       "    </tr>\n",
       "  </thead>\n",
       "  <tbody>\n",
       "    <tr>\n",
       "      <th>mean</th>\n",
       "      <td>0.724212</td>\n",
       "      <td>0.66274</td>\n",
       "      <td>0.571866</td>\n",
       "      <td>0.794452</td>\n",
       "      <td>0.786581</td>\n",
       "      <td>0.470942</td>\n",
       "    </tr>\n",
       "    <tr>\n",
       "      <th>sum</th>\n",
       "      <td>1268.820000</td>\n",
       "      <td>1161.12000</td>\n",
       "      <td>1001.910000</td>\n",
       "      <td>1391.880000</td>\n",
       "      <td>1378.090000</td>\n",
       "      <td>825.090000</td>\n",
       "    </tr>\n",
       "    <tr>\n",
       "      <th>min</th>\n",
       "      <td>0.000000</td>\n",
       "      <td>0.00000</td>\n",
       "      <td>0.000000</td>\n",
       "      <td>0.160000</td>\n",
       "      <td>0.050000</td>\n",
       "      <td>0.000000</td>\n",
       "    </tr>\n",
       "    <tr>\n",
       "      <th>max</th>\n",
       "      <td>1.000000</td>\n",
       "      <td>1.00000</td>\n",
       "      <td>1.000000</td>\n",
       "      <td>1.000000</td>\n",
       "      <td>1.000000</td>\n",
       "      <td>1.000000</td>\n",
       "    </tr>\n",
       "  </tbody>\n",
       "</table>\n",
       "</div>"
      ],
      "text/plain": [
       "      Percentage of Grade 3 Students Achieving the Provincial Standard in Reading  \\\n",
       "mean                                           0.724212                             \n",
       "sum                                         1268.820000                             \n",
       "min                                            0.000000                             \n",
       "max                                            1.000000                             \n",
       "\n",
       "      Percentage of Grade 3 Students Achieving the Provincial Standard in Writing  \\\n",
       "mean                                            0.66274                             \n",
       "sum                                          1161.12000                             \n",
       "min                                             0.00000                             \n",
       "max                                             1.00000                             \n",
       "\n",
       "      Percentage of Grade 3 Students Achieving the Provincial Standard in Mathematics  \\\n",
       "mean                                           0.571866                                 \n",
       "sum                                         1001.910000                                 \n",
       "min                                            0.000000                                 \n",
       "max                                            1.000000                                 \n",
       "\n",
       "      Percentage of Grade 6 Students Achieving the Provincial Standard in Reading  \\\n",
       "mean                                           0.794452                             \n",
       "sum                                         1391.880000                             \n",
       "min                                            0.160000                             \n",
       "max                                            1.000000                             \n",
       "\n",
       "      Percentage of Grade 6 Students Achieving the Provincial Standard in Writing  \\\n",
       "mean                                           0.786581                             \n",
       "sum                                         1378.090000                             \n",
       "min                                            0.050000                             \n",
       "max                                            1.000000                             \n",
       "\n",
       "      Percentage of Grade 6 Students Achieving the Provincial Standard in Mathematics  \n",
       "mean                                           0.470942                                \n",
       "sum                                          825.090000                                \n",
       "min                                            0.000000                                \n",
       "max                                            1.000000                                "
      ]
     },
     "execution_count": 52,
     "metadata": {},
     "output_type": "execute_result"
    }
   ],
   "source": [
    "#Aggregating data for outcome variables\n",
    "publicdf[[\"Percentage of Grade 3 Students Achieving the Provincial Standard in Reading\",\"Percentage of Grade 3 Students Achieving the Provincial Standard in Writing\",\"Percentage of Grade 3 Students Achieving the Provincial Standard in Mathematics\",\"Percentage of Grade 6 Students Achieving the Provincial Standard in Reading\",\"Percentage of Grade 6 Students Achieving the Provincial Standard in Writing\",\"Percentage of Grade 6 Students Achieving the Provincial Standard in Mathematics\"]].aggregate({sum,min,max,np.mean})"
   ]
  },
  {
   "cell_type": "code",
   "execution_count": 13,
   "metadata": {},
   "outputs": [],
   "source": [
    "#Model - Languages ~ Gr 3 Reading Achievement\n",
    "x_lang = publicdf[['Percentage of Students Whose First Language Is Not English','Percentage of Students Whose First Language Is Not French']]\n",
    "y_gr3_read = publicdf[\"Percentage of Grade 3 Students Achieving the Provincial Standard in Reading\"]\n",
    "model = linear_model.LinearRegression()\n",
    "model.fit(x_lang,y_gr3_read)\n",
    "model.coef_\n",
    "r2_lang_Read3 = model.score(x_lang,y_gr3_read)"
   ]
  },
  {
   "cell_type": "code",
   "execution_count": 14,
   "metadata": {},
   "outputs": [],
   "source": [
    "#dep var is % of Grade 3 Students achieving standard in writing - Languages\n",
    "y_gr3_write = publicdf[\"Percentage of Grade 3 Students Achieving the Provincial Standard in Writing\"]\n",
    "model.fit(x_lang,y_gr3_write)\n",
    "model.coef_\n",
    "r2_lang_Write3 =model.score(x_lang,y_gr3_write)"
   ]
  },
  {
   "cell_type": "code",
   "execution_count": 15,
   "metadata": {},
   "outputs": [],
   "source": [
    "#dep var is % of Grade 3 Students achieving standard in Math - Languages\n",
    "y_gr3_math = publicdf[\"Percentage of Grade 3 Students Achieving the Provincial Standard in Mathematics\"]\n",
    "model.fit(x_lang,y_gr3_math)\n",
    "model.coef_\n",
    "r2_lang_math3 = model.score(x_lang,y_gr3_math)"
   ]
  },
  {
   "cell_type": "code",
   "execution_count": 16,
   "metadata": {},
   "outputs": [],
   "source": [
    "#dep var is % of Grade 6 Students achieving standard in Reading - Languages\n",
    "y_gr6_read = publicdf[\"Percentage of Grade 6 Students Achieving the Provincial Standard in Reading\"]\n",
    "model1 = linear_model.LinearRegression()\n",
    "model1.fit(x_lang,y_gr6_read)\n",
    "model1.coef_\n",
    "r2_lang_read6 = model1.score(x_lang,y_gr6_read)"
   ]
  },
  {
   "cell_type": "code",
   "execution_count": 17,
   "metadata": {},
   "outputs": [],
   "source": [
    "#dep var is % of Grade 6 Students achieving standard in Writing - Languages\n",
    "y_gr6_write = publicdf[\"Percentage of Grade 6 Students Achieving the Provincial Standard in Writing\"]\n",
    "model.fit(x_lang,y_gr6_write)\n",
    "model.coef_\n",
    "r2_lang_write6 = model.score(x_lang,y_gr6_write)"
   ]
  },
  {
   "cell_type": "code",
   "execution_count": 18,
   "metadata": {},
   "outputs": [],
   "source": [
    "#dep var is % of Grade 6 Students achieving standard in Math - Languages\n",
    "y_gr6_math = publicdf[\"Percentage of Grade 6 Students Achieving the Provincial Standard in Mathematics\"]\n",
    "model.fit(x_lang,y_gr6_math)\n",
    "model.coef_\n",
    "r2_lang_math6 =model.score(x_lang,y_gr6_math)"
   ]
  },
  {
   "cell_type": "code",
   "execution_count": 19,
   "metadata": {},
   "outputs": [
    {
     "data": {
      "text/plain": [
       "array([0.73703353, 0.72458534, 0.72856133, ..., 0.72458534, 0.71583816,\n",
       "       0.73305754])"
      ]
     },
     "execution_count": 19,
     "metadata": {},
     "output_type": "execute_result"
    }
   ],
   "source": [
    "#Model - Place of Birth\n",
    "x_birthctry = publicdf[['Percentage of Students Who Are New to Canada from a Non-English Speaking Country','Percentage of Students Who Are New to Canada from a Non-French Speaking Country']]\n",
    "model.fit(x_birthctry,y_gr3_read)\n",
    "model.coef_\n",
    "r2_bc_read3 = model.score(x_birthctry,y_gr3_read)\n",
    "y_gr3read_pred = model.predict(x_birthctry)\n",
    "y_gr3read_pred"
   ]
  },
  {
   "cell_type": "code",
   "execution_count": 20,
   "metadata": {},
   "outputs": [],
   "source": [
    "#dep var is Gr3 Writing\n",
    "model.fit(x_birthctry, y_gr3_write)\n",
    "model.coef_\n",
    "r2_bc_write3 = model.score(x_birthctry, y_gr3_write)"
   ]
  },
  {
   "cell_type": "code",
   "execution_count": 21,
   "metadata": {},
   "outputs": [],
   "source": [
    "#dep var is Gr3 Math\n",
    "model.fit(x_birthctry,y_gr3_math)\n",
    "model.coef_\n",
    "r2_bc_math3 = model.score(x_birthctry, y_gr3_math)"
   ]
  },
  {
   "cell_type": "code",
   "execution_count": 22,
   "metadata": {},
   "outputs": [
    {
     "data": {
      "text/plain": [
       "0.007340763062426259"
      ]
     },
     "execution_count": 22,
     "metadata": {},
     "output_type": "execute_result"
    }
   ],
   "source": [
    "#dep var is Gr6 Reading\n",
    "model.fit(x_birthctry, y_gr6_read)\n",
    "model.coef_\n",
    "r2_bc_read6 = model.score(x_birthctry, y_gr6_read)\n",
    "r2_bc_read6"
   ]
  },
  {
   "cell_type": "code",
   "execution_count": 23,
   "metadata": {},
   "outputs": [],
   "source": [
    "#dep var is Gr6 Writing\n",
    "model.fit(x_birthctry, y_gr6_write)\n",
    "model.coef_\n",
    "r2_bc_write6 = model.score(x_birthctry, y_gr6_write)"
   ]
  },
  {
   "cell_type": "code",
   "execution_count": 24,
   "metadata": {},
   "outputs": [],
   "source": [
    "#dep var is gr6 Math\n",
    "model.fit(x_birthctry,y_gr6_math)\n",
    "model.coef_\n",
    "r2_bc_math6 = model.score(x_birthctry,y_gr6_math)"
   ]
  },
  {
   "cell_type": "code",
   "execution_count": 25,
   "metadata": {},
   "outputs": [],
   "source": [
    "#Model - Income\n",
    "x_income = publicdf[\"Percentage of School-Aged Children Who Live in Low-Income Households\"]\n",
    "x_income = x_income.array.reshape(-1,1)\n",
    "model.fit(x_income,y_gr3_read)\n",
    "model.coef_\n",
    "r2_inc_read3 = model.score(x_income,y_gr3_read)"
   ]
  },
  {
   "cell_type": "code",
   "execution_count": 26,
   "metadata": {},
   "outputs": [],
   "source": [
    "#dep var is gr3 Writing\n",
    "model.fit(x_income,y_gr3_write)\n",
    "model.coef_\n",
    "r2_inc_write3 = model.score(x_income,y_gr3_write)"
   ]
  },
  {
   "cell_type": "code",
   "execution_count": 27,
   "metadata": {},
   "outputs": [],
   "source": [
    "#dep var is gr3 Math\n",
    "model.fit(x_income, y_gr3_math)\n",
    "model.coef_\n",
    "r2_inc_math3 = model.score(x_income,y_gr3_math)"
   ]
  },
  {
   "cell_type": "code",
   "execution_count": 28,
   "metadata": {},
   "outputs": [],
   "source": [
    "#dep var is gr6 Reading\n",
    "model.fit(x_income,y_gr6_read)\n",
    "model.coef_\n",
    "r2_inc_read6 = model.score(x_income,y_gr6_read)"
   ]
  },
  {
   "cell_type": "code",
   "execution_count": 29,
   "metadata": {},
   "outputs": [],
   "source": [
    "#dep var is gr6 Writing\n",
    "model.fit(x_income,y_gr6_write)\n",
    "model.coef_\n",
    "r2_inc_write6 = model.score(x_income,y_gr6_write)"
   ]
  },
  {
   "cell_type": "code",
   "execution_count": 30,
   "metadata": {},
   "outputs": [],
   "source": [
    "#dep var is gr6 math\n",
    "model.fit(x_income,y_gr6_math)\n",
    "model.coef_\n",
    "r2_inc_math6 = model.score(x_income,y_gr6_math)"
   ]
  },
  {
   "cell_type": "code",
   "execution_count": 31,
   "metadata": {},
   "outputs": [],
   "source": [
    "#model - Parent Education\n",
    "x_education = publicdf[\"Percentage of Students Whose Parents Have No Degree, Diploma or Certificate\"]\n",
    "x_education = x_education.array.reshape(-1,1)\n",
    "model.fit(x_education, y_gr3_read)\n",
    "model.coef_\n",
    "r2_pe_read3 = model.score(x_education, y_gr3_read)"
   ]
  },
  {
   "cell_type": "code",
   "execution_count": 32,
   "metadata": {},
   "outputs": [],
   "source": [
    "#dep var is gr3 Writing\n",
    "model.fit(x_education, y_gr3_write)\n",
    "model.coef_\n",
    "r2_pe_write3 = model.score(x_education, y_gr3_write)"
   ]
  },
  {
   "cell_type": "code",
   "execution_count": 33,
   "metadata": {},
   "outputs": [],
   "source": [
    "#dep var is gr3 Math\n",
    "model.fit(x_education, y_gr3_math)\n",
    "model.coef_\n",
    "r2_pe_math3 = model.score(x_education, y_gr3_math)"
   ]
  },
  {
   "cell_type": "code",
   "execution_count": 34,
   "metadata": {},
   "outputs": [],
   "source": [
    "#dep var is gr6 Read\n",
    "model.fit(x_education, y_gr6_read)\n",
    "model.coef_\n",
    "r2_pe_read6 = model.score(x_education, y_gr6_read)"
   ]
  },
  {
   "cell_type": "code",
   "execution_count": 35,
   "metadata": {},
   "outputs": [],
   "source": [
    "#dep var is gr6 Write\n",
    "model.fit(x_education,y_gr6_write)\n",
    "model.coef_\n",
    "r2_pe_write6 = model.score(x_education,y_gr6_write)"
   ]
  },
  {
   "cell_type": "code",
   "execution_count": 36,
   "metadata": {},
   "outputs": [],
   "source": [
    "#dep var is gr6 Math\n",
    "model.fit(x_education, y_gr6_math)\n",
    "model.coef_\n",
    "r2_pe_math6 = model.score(x_education, y_gr6_math)\n"
   ]
  },
  {
   "cell_type": "code",
   "execution_count": 37,
   "metadata": {},
   "outputs": [
    {
     "name": "stdout",
     "output_type": "stream",
     "text": [
      "Gr3 Reading: 0.02908386245908956 \n",
      "Gr3 Writing: 0.03416452534988956 \n",
      "Gr3 Math 0.033791005878698877 \n",
      "Gr6 Reading 0.04140693557187047 \n",
      "Gr6 Writing: 0.04124981339390854 \n",
      "Gr6 Math 0.1473353452079893\n"
     ]
    }
   ],
   "source": [
    "#organizing r2 scores for base variables\n",
    "#language \n",
    "print(\"Gr3 Reading:\", r2_lang_Read3, \"\\nGr3 Writing:\", r2_lang_Write3,\"\\nGr3 Math\", r2_lang_math3,\"\\nGr6 Reading\",r2_lang_read6, \"\\nGr6 Writing:\",r2_lang_write6,\"\\nGr6 Math\", r2_lang_math6)"
   ]
  },
  {
   "cell_type": "code",
   "execution_count": 38,
   "metadata": {},
   "outputs": [
    {
     "name": "stdout",
     "output_type": "stream",
     "text": [
      "Gr3 Reading: 0.0021266616325460452 \n",
      "Gr3 Writing: 0.0005961604167427081 \n",
      "Gr3 Math 0.0020319829369395137 \n",
      "Gr6 Reading 0.007340763062426259 \n",
      "Gr6 Writing: 0.0008958341271562142 \n",
      "Gr6 Math 0.006763941519260408\n"
     ]
    }
   ],
   "source": [
    "#Birth Country\n",
    "print(\"Gr3 Reading:\", r2_bc_read3, \"\\nGr3 Writing:\", r2_bc_write3,\"\\nGr3 Math\", r2_bc_math3,\"\\nGr6 Reading\",r2_bc_read6, \"\\nGr6 Writing:\",r2_bc_write6,\"\\nGr6 Math\", r2_bc_math6)"
   ]
  },
  {
   "cell_type": "code",
   "execution_count": 39,
   "metadata": {},
   "outputs": [
    {
     "name": "stdout",
     "output_type": "stream",
     "text": [
      "Gr3 Reading: 0.14201605784740723 \n",
      "Gr3 Writing: 0.09127417785392977 \n",
      "Gr3 Math 0.14775502542346197 \n",
      "Gr6 Reading 0.1941943140509249 \n",
      "Gr6 Writing: 0.15779831975524183 \n",
      "Gr6 Math 0.10411776993879007\n"
     ]
    }
   ],
   "source": [
    "#Income\n",
    "print(\"Gr3 Reading:\", r2_inc_read3, \"\\nGr3 Writing:\", r2_inc_write3,\"\\nGr3 Math\", r2_inc_math3,\"\\nGr6 Reading\",r2_inc_read6, \"\\nGr6 Writing:\",r2_inc_write6,\"\\nGr6 Math\", r2_inc_math6)"
   ]
  },
  {
   "cell_type": "code",
   "execution_count": 40,
   "metadata": {},
   "outputs": [
    {
     "name": "stdout",
     "output_type": "stream",
     "text": [
      "Gr3 Reading: 0.10845687804976878 \n",
      "Gr3 Writing: 0.06165237410232638 \n",
      "Gr3 Math 0.09408728838338876 \n",
      "Gr6 Reading 0.1315539262341643 \n",
      "Gr6 Writing: 0.10675410124661089 \n",
      "Gr6 Math 0.05946322897379175\n"
     ]
    }
   ],
   "source": [
    "#Parent Education\n",
    "print(\"Gr3 Reading:\", r2_pe_read3, \"\\nGr3 Writing:\", r2_pe_write3,\"\\nGr3 Math\", r2_pe_math3,\"\\nGr6 Reading\",r2_pe_read6, \"\\nGr6 Writing:\",r2_pe_write6,\"\\nGr6 Math\", r2_pe_math6)"
   ]
  },
  {
   "cell_type": "code",
   "execution_count": 41,
   "metadata": {},
   "outputs": [
    {
     "name": "stdout",
     "output_type": "stream",
     "text": [
      "0.25161639978574724\n",
      "-0.699925542649674\n",
      "-0.0571443172221715\n",
      "0.05038976993522026\n",
      "-2.2326821640334393\n",
      "-1.8813235593549775\n"
     ]
    }
   ],
   "source": [
    "#using combined groups of variables in model\n",
    "x_total = publicdf[[ 'Percentage of Students Whose First Language Is Not English',\n",
    "       'Percentage of Students Whose First Language Is Not French','Percentage of Students Who Are New to Canada from a Non-English Speaking Country',\n",
    "       'Percentage of Students Who Are New to Canada from a Non-French Speaking Country',\n",
    "       'Percentage of School-Aged Children Who Live in Low-Income Households',\n",
    "       'Percentage of Students Whose Parents Have No Degree, Diploma or Certificate']]\n",
    "\n",
    "model.fit(x_total, y_gr3_math)\n",
    "print(model.score(x_total,y_gr3_math))\n",
    "print(model.score(x_total,y_gr3_read))\n",
    "print(model.score(x_total,y_gr3_write))\n",
    "print(model.score(x_total, y_gr6_math))\n",
    "print(model.score(x_total, y_gr6_read))\n",
    "print(model.score(x_total,y_gr6_write))\n"
   ]
  },
  {
   "cell_type": "code",
   "execution_count": 42,
   "metadata": {},
   "outputs": [
    {
     "data": {
      "text/plain": [
       "0.2344012063641745"
      ]
     },
     "execution_count": 42,
     "metadata": {},
     "output_type": "execute_result"
    }
   ],
   "source": [
    "#splitting train and test\n",
    "x_ = x_total\n",
    "y_1 = y_gr3_read\n",
    "X_train, X_test, Y_1_train, Y_1_test = train_test_split(x_, y_1, test_size=0.33, random_state=1)\n",
    "model.fit(X_train, Y_1_train)\n",
    "model.predict(X_test)\n",
    "model.score(X_test,Y_1_test)\n",
    "\n"
   ]
  },
  {
   "cell_type": "code",
   "execution_count": 43,
   "metadata": {},
   "outputs": [
    {
     "data": {
      "text/plain": [
       "0.18485920939897993"
      ]
     },
     "execution_count": 43,
     "metadata": {},
     "output_type": "execute_result"
    }
   ],
   "source": [
    "#testing with all grade 3 and 6 outcomes\n",
    "y_2 = y_gr3_write\n",
    "X1_train, X1_test, Y_2_train, Y_2_test = train_test_split(x_, y_2, test_size=0.33,random_state=2)\n",
    "model.fit(X1_train, Y_2_train)\n",
    "model.predict(X1_test)\n",
    "model.score(X1_test, Y_2_test)"
   ]
  },
  {
   "cell_type": "code",
   "execution_count": 44,
   "metadata": {},
   "outputs": [
    {
     "data": {
      "text/plain": [
       "-0.25755929244522147"
      ]
     },
     "execution_count": 44,
     "metadata": {},
     "output_type": "execute_result"
    }
   ],
   "source": [
    "y_3 = y_gr3_math\n",
    "X2_train, X2_test, Y_3_train, Y_3_test = train_test_split(x_, y_3, test_size=.33, random_state=3)\n",
    "model.fit(X2_train, Y_2_train)\n",
    "model.predict(X2_test)\n",
    "model.score(X2_test,Y_3_test)"
   ]
  },
  {
   "cell_type": "code",
   "execution_count": 45,
   "metadata": {},
   "outputs": [
    {
     "name": "stdout",
     "output_type": "stream",
     "text": [
      "0.31791706346743975\n",
      "0.2911028337138706\n",
      "0.3820875270632731\n"
     ]
    }
   ],
   "source": [
    "y_4 =  y_gr6_read\n",
    "y_5 = y_gr6_write\n",
    "y_6 = y_gr6_math\n",
    "\n",
    "\n",
    "X3_train, X3_test, Y_4_train, Y_4_test = train_test_split(x_, y_4, test_size=0.33)\n",
    "model.fit(X3_train, Y_4_train)\n",
    "model.predict(X3_test)\n",
    "print(model.score(X3_test,Y_4_test))\n",
    "\n",
    "\n",
    "X4_train, X4_test, Y_5_train, Y_5_test = train_test_split(x_, y_5, test_size=0.33)\n",
    "model.fit(X4_train, Y_5_train)\n",
    "model.predict(X4_test)\n",
    "print(model.score(X4_test,Y_5_test))\n",
    "\n",
    "\n",
    "X5_train, X5_test, Y_6_train, Y_6_test = train_test_split(x_, y_6, test_size=0.33)\n",
    "model.fit(X5_train, Y_6_train)\n",
    "model.predict(X5_test)\n",
    "print(model.score(X5_test,Y_6_test))"
   ]
  }
 ],
 "metadata": {
  "kernelspec": {
   "display_name": "Python 3.10.0 64-bit",
   "language": "python",
   "name": "python3"
  },
  "language_info": {
   "codemirror_mode": {
    "name": "ipython",
    "version": 3
   },
   "file_extension": ".py",
   "mimetype": "text/x-python",
   "name": "python",
   "nbconvert_exporter": "python",
   "pygments_lexer": "ipython3",
   "version": "3.10.0"
  },
  "orig_nbformat": 4,
  "vscode": {
   "interpreter": {
    "hash": "9e9ffc9a5c38d8c76e63580f0cc4527c01c1c66d95702a45cbfd39664d754ffa"
   }
  }
 },
 "nbformat": 4,
 "nbformat_minor": 2
}
