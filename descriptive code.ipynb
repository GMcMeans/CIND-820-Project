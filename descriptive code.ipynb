{
 "cells": [
  {
   "cell_type": "code",
   "execution_count": 60,
   "metadata": {},
   "outputs": [
    {
     "data": {
      "text/plain": [
       "<bound method Series.sort_index of 10    379\n",
       "20    239\n",
       "15    192\n",
       "30    128\n",
       "25    118\n",
       "5     101\n",
       "40     52\n",
       "35     47\n",
       "12     39\n",
       "11     38\n",
       "9      37\n",
       "45     30\n",
       "8      30\n",
       "14     26\n",
       "50     23\n",
       "13     22\n",
       "17     20\n",
       "7      19\n",
       "18     17\n",
       "0      17\n",
       "6      16\n",
       "16     16\n",
       "4      12\n",
       "19     11\n",
       "21     11\n",
       "27      9\n",
       "60      9\n",
       "34      8\n",
       "22      8\n",
       "24      7\n",
       "28      7\n",
       "36      6\n",
       "43      5\n",
       "23      5\n",
       "3       5\n",
       "65      5\n",
       "38      5\n",
       "31      4\n",
       "37      3\n",
       "29      3\n",
       "26      3\n",
       "54      3\n",
       "55      3\n",
       "44      2\n",
       "41      2\n",
       "59      1\n",
       "47      1\n",
       "53      1\n",
       "48      1\n",
       "2       1\n",
       "71      1\n",
       "56      1\n",
       "46      1\n",
       "61      1\n",
       "32      1\n",
       "Name: Percentage of School-Aged Children Who Live in Low-Income Households, dtype: int64>"
      ]
     },
     "execution_count": 60,
     "metadata": {},
     "output_type": "execute_result"
    }
   ],
   "source": [
    "import pandas as pd\n",
    "import os\n",
    "os.getcwd()\n",
    "os.chdir('C:\\\\Users\\\\Joey McMeans\\\\Desktop\\\\Joey School 2021')\n",
    "df_desc = pd.read_csv('StudentXDemographicXResultCOPY.csv')\n",
    "#print(df)\n",
    "col_list = list(df_desc.columns)\n",
    "#print(df_desc[col_list].isnull().sum())\n",
    "sub_catholic = df_desc[df_desc[\"School Type\"].str.contains(\"Catholic\")]\n",
    "sub_catholic\n",
    "sub_public = df_desc[df_desc[\"School Type\"].str.contains(\"Public\")]\n",
    "sub_public\n",
    "sub_elementary = df_desc[df_desc[\"School Level\"].str.contains(\"Elementary\")]\n",
    "sub_elementary\n",
    "sub_elem_list = list(sub_elementary.columns)\n",
    "#print(sub_elementary[sub_elem_list].isnull().sum())\n",
    "sub_elementary\n",
    "#removing columns [1,4,11,12,13,14,17,18,19,20,21,23,,24,43,44,45,46,47,48,51]\n",
    "sub_elem = sub_elementary.drop(columns=[\"Board Number\", \"School Number\", \"Building Suite\", \"P.O. Box\", \"Street\", \"Municipality\",\"Postal Code\",\"Phone Number\", \"Fax Number\", \"School Website\",\"Board Website\", \"Latitude\", \"Longitude\",\"Percentage of Grade 9 Students Achieving the Provincial Standard in Academic Mathematics\",\"Change in Grade 9 Academic Mathematics Achievement Over Three Years\",\"Percentage of Grade 9 Students Achieving the Provincial Standard in Applied Mathematics\",\"Change in Grade 9 Applied Mathematics Achievement Over Three Years\",\"Percentage of Students That Passed the Grade 10 OSSLT on Their First Attempt\",\"Change in Grade 10 OSSLT Literacy Achievement Over Three Years\", \"Extract Date\"])\n",
    "sub_elem_list2 = list(sub_elem.columns)\n",
    "#print(sub_elem[sub_elem_list2].isnull().sum())\n",
    "\n",
    "#sub_elem.count()\n",
    "sub_elem = sub_elem.dropna()\n",
    "sub_elem_catholic = sub_elem[sub_elem[\"School Type\"].str.contains(\"Catholic\")]\n",
    "sub_elem_public = sub_elem[sub_elem[\"School Type\"].str.contains(\"Public\")]\n",
    "#print(sub_elem_public)\n",
    "public_low_income_counts = sub_elem_public[\"Percentage of School-Aged Children Who Live in Low-Income Households\"].value_counts()\n",
    "public_low_income_counts.sort_index"
   ]
  },
  {
   "cell_type": "code",
   "execution_count": null,
   "metadata": {},
   "outputs": [],
   "source": []
  }
 ],
 "metadata": {
  "interpreter": {
   "hash": "9e9ffc9a5c38d8c76e63580f0cc4527c01c1c66d95702a45cbfd39664d754ffa"
  },
  "kernelspec": {
   "display_name": "Python 3.10.0 64-bit",
   "language": "python",
   "name": "python3"
  },
  "language_info": {
   "codemirror_mode": {
    "name": "ipython",
    "version": 3
   },
   "file_extension": ".py",
   "mimetype": "text/x-python",
   "name": "python",
   "nbconvert_exporter": "python",
   "pygments_lexer": "ipython3",
   "version": "3.10.0"
  },
  "orig_nbformat": 4
 },
 "nbformat": 4,
 "nbformat_minor": 2
}
