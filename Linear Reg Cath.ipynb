{
 "cells": [
  {
   "cell_type": "code",
   "execution_count": 2,
   "metadata": {},
   "outputs": [
    {
     "data": {
      "image/png": "[encoded data removed]",
      "text/plain": [
       "<Figure size 432x288 with 1 Axes>"
      ]
     },
     "metadata": {
      "needs_background": "light"
     },
     "output_type": "display_data"
    },
    {
     "data": {
      "image/png": "[encoded data removed]",
      "text/plain": [
       "<Figure size 432x288 with 1 Axes>"
      ]
     },
     "metadata": {
      "needs_background": "light"
     },
     "output_type": "display_data"
    },
    {
     "name": "stdout",
     "output_type": "stream",
     "text": [
      "Percentage of Students Who Are New to Canada from a Non-English Speaking Country    0.05465\n",
      "dtype: float64\n",
      "Percentage of Students Who Are New to Canada from a Non-English Speaking Country    0.05\n",
      "dtype: float64\n",
      "   Percentage of Students Who Are New to Canada from a Non-English Speaking Country\n",
      "0                                                0.0                               \n",
      "Percentage of Students Who Are New to Canada from a Non-French Speaking Country    0.055477\n",
      "dtype: float64\n",
      "Percentage of Students Who Are New to Canada from a Non-French Speaking Country    0.05\n",
      "dtype: float64\n",
      "   Percentage of Students Who Are New to Canada from a Non-French Speaking Country\n",
      "0                                                0.0                              \n",
      "Percentage of Students Whose First Language Is Not English    0.206394\n",
      "dtype: float64\n",
      "Percentage of Students Whose First Language Is Not English    0.15\n",
      "dtype: float64\n",
      "   Percentage of Students Whose First Language Is Not English\n",
      "0                                                0.0         \n",
      "Percentage of Students Whose First Language Is Not French    0.922098\n",
      "dtype: float64\n",
      "Percentage of Students Whose First Language Is Not French    1.0\n",
      "dtype: float64\n",
      "   Percentage of Students Whose First Language Is Not French\n",
      "0                                                1.0        \n"
     ]
    },
    {
     "data": {
      "image/png": "[encoded data removed]",
      "text/plain": [
       "<Figure size 432x288 with 1 Axes>"
      ]
     },
     "metadata": {
      "needs_background": "light"
     },
     "output_type": "display_data"
    }
   ],
   "source": [
    "import seaborn as sns\n",
    "import pandas as pd\n",
    "import os  \n",
    "import numpy as np\n",
    "from sklearn import linear_model\n",
    "from matplotlib import pyplot\n",
    "from scipy import stats\n",
    "from sklearn.model_selection import cross_val_score\n",
    "from sklearn.metrics import classification_report\n",
    "from sklearn.model_selection import train_test_split\n",
    "os.chdir('C:\\\\Users\\\\Joey McMeans\\\\Desktop\\\\Joey School 2021')\n",
    "os.getcwd()\n",
    "cathdf = pd.read_csv(\"Elem_Catholic.csv\")\n",
    "cathdf.isnull().sum()\n",
    "#Checking normality of independent variables - Country\n",
    "pyplot.hist(cathdf[['Percentage of Students Who Are New to Canada from a Non-English Speaking Country']])\n",
    "pyplot.show()\n",
    "pyplot.hist(cathdf[['Percentage of Students Who Are New to Canada from a Non-French Speaking Country']])\n",
    "pyplot.show()\n",
    "#strong positive skew for both\n",
    "#confirming skew\n",
    "print(cathdf[['Percentage of Students Who Are New to Canada from a Non-English Speaking Country']].mean())\n",
    "print(cathdf[['Percentage of Students Who Are New to Canada from a Non-English Speaking Country']].median())\n",
    "print(cathdf[['Percentage of Students Who Are New to Canada from a Non-English Speaking Country']].mode())\n",
    "print(cathdf[['Percentage of Students Who Are New to Canada from a Non-French Speaking Country']].mean())\n",
    "print(cathdf[['Percentage of Students Who Are New to Canada from a Non-French Speaking Country']].median())\n",
    "print(cathdf[['Percentage of Students Who Are New to Canada from a Non-French Speaking Country']].mode())\n",
    "#Checking Normality of variables - Languages\n",
    "pyplot.hist(cathdf[['Percentage of Students Whose First Language Is Not English']])\n",
    "pyplot.hist(cathdf[['Percentage of Students Whose First Language Is Not French']])\n",
    "#positive skew for english,  strong negative skew for french\n",
    "#confirming skew\n",
    "print(cathdf[['Percentage of Students Whose First Language Is Not English']].mean())\n",
    "print(cathdf[['Percentage of Students Whose First Language Is Not English']].median())\n",
    "print(cathdf[['Percentage of Students Whose First Language Is Not English']].mode())\n",
    "print(cathdf[['Percentage of Students Whose First Language Is Not French']].mean())\n",
    "print(cathdf[['Percentage of Students Whose First Language Is Not French']].median())\n",
    "print(cathdf[['Percentage of Students Whose First Language Is Not French']].mode())\n"
   ]
  },
  {
   "cell_type": "code",
   "execution_count": 3,
   "metadata": {},
   "outputs": [
    {
     "name": "stdout",
     "output_type": "stream",
     "text": [
      "Percentage of School-Aged Children Who Live in Low-Income Households    0.179682\n",
      "dtype: float64\n",
      "Percentage of School-Aged Children Who Live in Low-Income Households    0.15\n",
      "dtype: float64\n",
      "   Percentage of School-Aged Children Who Live in Low-Income Households\n",
      "0                                                0.1                   \n"
     ]
    },
    {
     "data": {
      "image/png": "[encoded data removed]",
      "text/plain": [
       "<Figure size 432x288 with 1 Axes>"
      ]
     },
     "metadata": {
      "needs_background": "light"
     },
     "output_type": "display_data"
    }
   ],
   "source": [
    "#Checking normality of variables - income\n",
    "pyplot.hist(cathdf[[\"Percentage of School-Aged Children Who Live in Low-Income Households\"]])\n",
    "#positive skew\n",
    "#confirming skew\n",
    "print(cathdf[[\"Percentage of School-Aged Children Who Live in Low-Income Households\"]].mean())\n",
    "print(cathdf[[\"Percentage of School-Aged Children Who Live in Low-Income Households\"]].median())\n",
    "print(cathdf[[\"Percentage of School-Aged Children Who Live in Low-Income Households\"]].mode())"
   ]
  },
  {
   "cell_type": "code",
   "execution_count": 4,
   "metadata": {},
   "outputs": [
    {
     "name": "stdout",
     "output_type": "stream",
     "text": [
      "Percentage of Students Whose Parents Have No Degree, Diploma or Certificate    0.054668\n",
      "dtype: float64\n",
      "Percentage of Students Whose Parents Have No Degree, Diploma or Certificate    0.05\n",
      "dtype: float64\n",
      "   Percentage of Students Whose Parents Have No Degree, Diploma or Certificate\n",
      "0                                                0.0                          \n"
     ]
    },
    {
     "data": {
      "image/png": "[encoded data removed]",
      "text/plain": [
       "<Figure size 432x288 with 1 Axes>"
      ]
     },
     "metadata": {
      "needs_background": "light"
     },
     "output_type": "display_data"
    }
   ],
   "source": [
    "#Checking Normality of independent variables - parent education\n",
    "pyplot.hist(cathdf[[\"Percentage of Students Whose Parents Have No Degree, Diploma or Certificate\"]])\n",
    "#positive skew - strong\n",
    "#confirming skew\n",
    "print(cathdf[[\"Percentage of Students Whose Parents Have No Degree, Diploma or Certificate\"]].mean())\n",
    "print(cathdf[[\"Percentage of Students Whose Parents Have No Degree, Diploma or Certificate\"]].median())\n",
    "print(cathdf[[\"Percentage of Students Whose Parents Have No Degree, Diploma or Certificate\"]].mode())"
   ]
  },
  {
   "cell_type": "code",
   "execution_count": 5,
   "metadata": {},
   "outputs": [
    {
     "name": "stdout",
     "output_type": "stream",
     "text": [
      "Percentage of Grade 3 Students Achieving the Provincial Standard in Reading    0.781272\n",
      "dtype: float64\n",
      "Percentage of Grade 3 Students Achieving the Provincial Standard in Reading    0.8\n",
      "dtype: float64\n",
      "   Percentage of Grade 3 Students Achieving the Provincial Standard in Reading\n",
      "0                                               0.81                          \n"
     ]
    },
    {
     "data": {
      "image/png": "[encoded data removed]",
      "text/plain": [
       "<Figure size 432x288 with 1 Axes>"
      ]
     },
     "metadata": {
      "needs_background": "light"
     },
     "output_type": "display_data"
    }
   ],
   "source": [
    "#dependant variable normality\n",
    "pyplot.hist(cathdf[[\"Percentage of Grade 3 Students Achieving the Provincial Standard in Reading\"]])\n",
    "#negative skew\n",
    "print(cathdf[[\"Percentage of Grade 3 Students Achieving the Provincial Standard in Reading\"]].mean())\n",
    "print(cathdf[[\"Percentage of Grade 3 Students Achieving the Provincial Standard in Reading\"]].median())\n",
    "print(cathdf[[\"Percentage of Grade 3 Students Achieving the Provincial Standard in Reading\"]].mode())"
   ]
  },
  {
   "cell_type": "code",
   "execution_count": 6,
   "metadata": {},
   "outputs": [
    {
     "name": "stdout",
     "output_type": "stream",
     "text": [
      "Percentage of Grade 3 Students Achieving the Provincial Standard in Writing    0.736058\n",
      "dtype: float64\n",
      "Percentage of Grade 3 Students Achieving the Provincial Standard in Writing    0.76\n",
      "dtype: float64\n",
      "   Percentage of Grade 3 Students Achieving the Provincial Standard in Writing\n",
      "0                                               0.79                          \n"
     ]
    },
    {
     "data": {
      "image/png": "[encoded data removed]",
      "text/plain": [
       "<Figure size 432x288 with 1 Axes>"
      ]
     },
     "metadata": {
      "needs_background": "light"
     },
     "output_type": "display_data"
    }
   ],
   "source": [
    "pyplot.hist(cathdf[[\"Percentage of Grade 3 Students Achieving the Provincial Standard in Writing\"]])\n",
    "#negative skew\n",
    "print(cathdf[[\"Percentage of Grade 3 Students Achieving the Provincial Standard in Writing\"]].mean())\n",
    "print(cathdf[[\"Percentage of Grade 3 Students Achieving the Provincial Standard in Writing\"]].median())\n",
    "print(cathdf[[\"Percentage of Grade 3 Students Achieving the Provincial Standard in Writing\"]].mode())"
   ]
  },
  {
   "cell_type": "code",
   "execution_count": 7,
   "metadata": {},
   "outputs": [
    {
     "name": "stdout",
     "output_type": "stream",
     "text": [
      "Percentage of Grade 3 Students Achieving the Provincial Standard in Mathematics    0.608647\n",
      "dtype: float64\n",
      "Percentage of Grade 3 Students Achieving the Provincial Standard in Mathematics    0.62\n",
      "dtype: float64\n",
      "   Percentage of Grade 3 Students Achieving the Provincial Standard in Mathematics\n",
      "0                                               0.67                              \n"
     ]
    },
    {
     "data": {
      "image/png": "[encoded data removed]",
      "text/plain": [
       "<Figure size 432x288 with 1 Axes>"
      ]
     },
     "metadata": {
      "needs_background": "light"
     },
     "output_type": "display_data"
    }
   ],
   "source": [
    "pyplot.hist(cathdf[[\"Percentage of Grade 3 Students Achieving the Provincial Standard in Mathematics\"]])\n",
    "#almost normal - closer to negative\n",
    "print(cathdf[[\"Percentage of Grade 3 Students Achieving the Provincial Standard in Mathematics\"]].mean())\n",
    "print(cathdf[[\"Percentage of Grade 3 Students Achieving the Provincial Standard in Mathematics\"]].median())\n",
    "print(cathdf[[\"Percentage of Grade 3 Students Achieving the Provincial Standard in Mathematics\"]].mode())"
   ]
  },
  {
   "cell_type": "code",
   "execution_count": 8,
   "metadata": {},
   "outputs": [
    {
     "name": "stdout",
     "output_type": "stream",
     "text": [
      "Percentage of Grade 6 Students Achieving the Provincial Standard in Reading    0.836558\n",
      "dtype: float64\n",
      "Percentage of Grade 6 Students Achieving the Provincial Standard in Reading    0.86\n",
      "dtype: float64\n",
      "   Percentage of Grade 6 Students Achieving the Provincial Standard in Reading\n",
      "0                                                1.0                          \n"
     ]
    },
    {
     "data": {
      "image/png": "[encoded data removed]",
      "text/plain": [
       "<Figure size 432x288 with 1 Axes>"
      ]
     },
     "metadata": {
      "needs_background": "light"
     },
     "output_type": "display_data"
    }
   ],
   "source": [
    "pyplot.hist(cathdf[[\"Percentage of Grade 6 Students Achieving the Provincial Standard in Reading\"]])\n",
    "#almost normal\n",
    "print(cathdf[[\"Percentage of Grade 6 Students Achieving the Provincial Standard in Reading\"]].mean())\n",
    "print(cathdf[[\"Percentage of Grade 6 Students Achieving the Provincial Standard in Reading\"]].median())\n",
    "print(cathdf[[\"Percentage of Grade 6 Students Achieving the Provincial Standard in Reading\"]].mode())"
   ]
  },
  {
   "cell_type": "code",
   "execution_count": 9,
   "metadata": {},
   "outputs": [
    {
     "name": "stdout",
     "output_type": "stream",
     "text": [
      "Percentage of Grade 6 Students Achieving the Provincial Standard in Writing    0.829982\n",
      "dtype: float64\n",
      "Percentage of Grade 6 Students Achieving the Provincial Standard in Writing    0.85\n",
      "dtype: float64\n",
      "   Percentage of Grade 6 Students Achieving the Provincial Standard in Writing\n",
      "0                                                1.0                          \n"
     ]
    },
    {
     "data": {
      "image/png": "[encoded data removed]",
      "text/plain": [
       "<Figure size 432x288 with 1 Axes>"
      ]
     },
     "metadata": {
      "needs_background": "light"
     },
     "output_type": "display_data"
    }
   ],
   "source": [
    "pyplot.hist(cathdf[[\"Percentage of Grade 6 Students Achieving the Provincial Standard in Writing\"]])\n",
    "#negative skew\n",
    "print(cathdf[[\"Percentage of Grade 6 Students Achieving the Provincial Standard in Writing\"]].mean())\n",
    "print(cathdf[[\"Percentage of Grade 6 Students Achieving the Provincial Standard in Writing\"]].median())\n",
    "print(cathdf[[\"Percentage of Grade 6 Students Achieving the Provincial Standard in Writing\"]].mode())"
   ]
  },
  {
   "cell_type": "code",
   "execution_count": 10,
   "metadata": {},
   "outputs": [
    {
     "name": "stdout",
     "output_type": "stream",
     "text": [
      "Percentage of Grade 6 Students Achieving the Provincial Standard in Mathematics    0.51554\n",
      "dtype: float64\n",
      "Percentage of Grade 6 Students Achieving the Provincial Standard in Mathematics    0.5\n",
      "dtype: float64\n",
      "   Percentage of Grade 6 Students Achieving the Provincial Standard in Mathematics\n",
      "0                                                0.5                              \n"
     ]
    },
    {
     "data": {
      "image/png": "[encoded data removed]",
      "text/plain": [
       "<Figure size 432x288 with 1 Axes>"
      ]
     },
     "metadata": {
      "needs_background": "light"
     },
     "output_type": "display_data"
    }
   ],
   "source": [
    "pyplot.hist(cathdf[[\"Percentage of Grade 6 Students Achieving the Provincial Standard in Mathematics\"]])\n",
    "#almost normals\n",
    "print(cathdf[[\"Percentage of Grade 6 Students Achieving the Provincial Standard in Mathematics\"]].mean())\n",
    "print(cathdf[[\"Percentage of Grade 6 Students Achieving the Provincial Standard in Mathematics\"]].median())\n",
    "print(cathdf[[\"Percentage of Grade 6 Students Achieving the Provincial Standard in Mathematics\"]].mode())"
   ]
  },
  {
   "cell_type": "code",
   "execution_count": 11,
   "metadata": {},
   "outputs": [
    {
     "data": {
      "text/plain": [
       "<AxesSubplot:>"
      ]
     },
     "execution_count": 11,
     "metadata": {},
     "output_type": "execute_result"
    },
    {
     "data": {
      "image/png": "[encoded data removed]",
      "text/plain": [
       "<Figure size 432x288 with 2 Axes>"
      ]
     },
     "metadata": {
      "needs_background": "light"
     },
     "output_type": "display_data"
    }
   ],
   "source": [
    "#correlating variables\n",
    "cormatrix = cathdf.corr(method = 'pearson')\n",
    "sns.heatmap(cormatrix)"
   ]
  },
  {
   "cell_type": "code",
   "execution_count": 12,
   "metadata": {},
   "outputs": [
    {
     "data": {
      "text/html": [
       "<div>\n",
       "<style scoped>\n",
       "    .dataframe tbody tr th:only-of-type {\n",
       "        vertical-align: middle;\n",
       "    }\n",
       "\n",
       "    .dataframe tbody tr th {\n",
       "        vertical-align: top;\n",
       "    }\n",
       "\n",
       "    .dataframe thead th {\n",
       "        text-align: right;\n",
       "    }\n",
       "</style>\n",
       "<table border=\"1\" class=\"dataframe\">\n",
       "  <thead>\n",
       "    <tr style=\"text-align: right;\">\n",
       "      <th></th>\n",
       "      <th>Percentage of Students Whose First Language Is Not English</th>\n",
       "      <th>Percentage of Students Whose First Language Is Not French</th>\n",
       "      <th>Percentage of Students Who Are New to Canada from a Non-English Speaking Country</th>\n",
       "      <th>Percentage of Students Who Are New to Canada from a Non-French Speaking Country</th>\n",
       "      <th>Percentage of School-Aged Children Who Live in Low-Income Households</th>\n",
       "      <th>Percentage of Students Whose Parents Have No Degree, Diploma or Certificate</th>\n",
       "    </tr>\n",
       "  </thead>\n",
       "  <tbody>\n",
       "    <tr>\n",
       "      <th>mean</th>\n",
       "      <td>0.206394</td>\n",
       "      <td>0.922098</td>\n",
       "      <td>0.05465</td>\n",
       "      <td>0.055477</td>\n",
       "      <td>0.179682</td>\n",
       "      <td>0.054668</td>\n",
       "    </tr>\n",
       "    <tr>\n",
       "      <th>sum</th>\n",
       "      <td>227.240000</td>\n",
       "      <td>1015.230000</td>\n",
       "      <td>60.17000</td>\n",
       "      <td>61.080000</td>\n",
       "      <td>197.830000</td>\n",
       "      <td>60.190000</td>\n",
       "    </tr>\n",
       "    <tr>\n",
       "      <th>min</th>\n",
       "      <td>0.000000</td>\n",
       "      <td>0.000000</td>\n",
       "      <td>0.00000</td>\n",
       "      <td>0.000000</td>\n",
       "      <td>0.000000</td>\n",
       "      <td>0.000000</td>\n",
       "    </tr>\n",
       "    <tr>\n",
       "      <th>max</th>\n",
       "      <td>1.000000</td>\n",
       "      <td>1.000000</td>\n",
       "      <td>0.60000</td>\n",
       "      <td>0.600000</td>\n",
       "      <td>0.700000</td>\n",
       "      <td>0.400000</td>\n",
       "    </tr>\n",
       "  </tbody>\n",
       "</table>\n",
       "</div>"
      ],
      "text/plain": [
       "      Percentage of Students Whose First Language Is Not English  \\\n",
       "mean                                           0.206394            \n",
       "sum                                          227.240000            \n",
       "min                                            0.000000            \n",
       "max                                            1.000000            \n",
       "\n",
       "      Percentage of Students Whose First Language Is Not French  \\\n",
       "mean                                           0.922098           \n",
       "sum                                         1015.230000           \n",
       "min                                            0.000000           \n",
       "max                                            1.000000           \n",
       "\n",
       "      Percentage of Students Who Are New to Canada from a Non-English Speaking Country  \\\n",
       "mean                                            0.05465                                  \n",
       "sum                                            60.17000                                  \n",
       "min                                             0.00000                                  \n",
       "max                                             0.60000                                  \n",
       "\n",
       "      Percentage of Students Who Are New to Canada from a Non-French Speaking Country  \\\n",
       "mean                                           0.055477                                 \n",
       "sum                                           61.080000                                 \n",
       "min                                            0.000000                                 \n",
       "max                                            0.600000                                 \n",
       "\n",
       "      Percentage of School-Aged Children Who Live in Low-Income Households  \\\n",
       "mean                                           0.179682                      \n",
       "sum                                          197.830000                      \n",
       "min                                            0.000000                      \n",
       "max                                            0.700000                      \n",
       "\n",
       "      Percentage of Students Whose Parents Have No Degree, Diploma or Certificate  \n",
       "mean                                           0.054668                            \n",
       "sum                                           60.190000                            \n",
       "min                                            0.000000                            \n",
       "max                                            0.400000                            "
      ]
     },
     "execution_count": 12,
     "metadata": {},
     "output_type": "execute_result"
    }
   ],
   "source": [
    "#aggregating data for predictor variables \n",
    "cathdf[[ 'Percentage of Students Whose First Language Is Not English',\n",
    "       'Percentage of Students Whose First Language Is Not French','Percentage of Students Who Are New to Canada from a Non-English Speaking Country',\n",
    "       'Percentage of Students Who Are New to Canada from a Non-French Speaking Country',\n",
    "       'Percentage of School-Aged Children Who Live in Low-Income Households',\n",
    "       'Percentage of Students Whose Parents Have No Degree, Diploma or Certificate']].aggregate({sum,min,max,np.mean})"
   ]
  },
  {
   "cell_type": "code",
   "execution_count": 13,
   "metadata": {},
   "outputs": [
    {
     "data": {
      "text/html": [
       "<div>\n",
       "<style scoped>\n",
       "    .dataframe tbody tr th:only-of-type {\n",
       "        vertical-align: middle;\n",
       "    }\n",
       "\n",
       "    .dataframe tbody tr th {\n",
       "        vertical-align: top;\n",
       "    }\n",
       "\n",
       "    .dataframe thead th {\n",
       "        text-align: right;\n",
       "    }\n",
       "</style>\n",
       "<table border=\"1\" class=\"dataframe\">\n",
       "  <thead>\n",
       "    <tr style=\"text-align: right;\">\n",
       "      <th></th>\n",
       "      <th>Percentage of Grade 3 Students Achieving the Provincial Standard in Reading</th>\n",
       "      <th>Percentage of Grade 3 Students Achieving the Provincial Standard in Writing</th>\n",
       "      <th>Percentage of Grade 3 Students Achieving the Provincial Standard in Mathematics</th>\n",
       "      <th>Percentage of Grade 6 Students Achieving the Provincial Standard in Reading</th>\n",
       "      <th>Percentage of Grade 6 Students Achieving the Provincial Standard in Writing</th>\n",
       "      <th>Percentage of Grade 6 Students Achieving the Provincial Standard in Mathematics</th>\n",
       "    </tr>\n",
       "  </thead>\n",
       "  <tbody>\n",
       "    <tr>\n",
       "      <th>mean</th>\n",
       "      <td>0.781272</td>\n",
       "      <td>0.736058</td>\n",
       "      <td>0.608647</td>\n",
       "      <td>0.836558</td>\n",
       "      <td>0.829982</td>\n",
       "      <td>0.51554</td>\n",
       "    </tr>\n",
       "    <tr>\n",
       "      <th>sum</th>\n",
       "      <td>860.180000</td>\n",
       "      <td>810.400000</td>\n",
       "      <td>670.120000</td>\n",
       "      <td>921.050000</td>\n",
       "      <td>913.810000</td>\n",
       "      <td>567.61000</td>\n",
       "    </tr>\n",
       "    <tr>\n",
       "      <th>min</th>\n",
       "      <td>0.360000</td>\n",
       "      <td>0.200000</td>\n",
       "      <td>0.080000</td>\n",
       "      <td>0.350000</td>\n",
       "      <td>0.140000</td>\n",
       "      <td>0.00000</td>\n",
       "    </tr>\n",
       "    <tr>\n",
       "      <th>max</th>\n",
       "      <td>1.000000</td>\n",
       "      <td>1.000000</td>\n",
       "      <td>1.000000</td>\n",
       "      <td>1.000000</td>\n",
       "      <td>1.000000</td>\n",
       "      <td>1.00000</td>\n",
       "    </tr>\n",
       "  </tbody>\n",
       "</table>\n",
       "</div>"
      ],
      "text/plain": [
       "      Percentage of Grade 3 Students Achieving the Provincial Standard in Reading  \\\n",
       "mean                                           0.781272                             \n",
       "sum                                          860.180000                             \n",
       "min                                            0.360000                             \n",
       "max                                            1.000000                             \n",
       "\n",
       "      Percentage of Grade 3 Students Achieving the Provincial Standard in Writing  \\\n",
       "mean                                           0.736058                             \n",
       "sum                                          810.400000                             \n",
       "min                                            0.200000                             \n",
       "max                                            1.000000                             \n",
       "\n",
       "      Percentage of Grade 3 Students Achieving the Provincial Standard in Mathematics  \\\n",
       "mean                                           0.608647                                 \n",
       "sum                                          670.120000                                 \n",
       "min                                            0.080000                                 \n",
       "max                                            1.000000                                 \n",
       "\n",
       "      Percentage of Grade 6 Students Achieving the Provincial Standard in Reading  \\\n",
       "mean                                           0.836558                             \n",
       "sum                                          921.050000                             \n",
       "min                                            0.350000                             \n",
       "max                                            1.000000                             \n",
       "\n",
       "      Percentage of Grade 6 Students Achieving the Provincial Standard in Writing  \\\n",
       "mean                                           0.829982                             \n",
       "sum                                          913.810000                             \n",
       "min                                            0.140000                             \n",
       "max                                            1.000000                             \n",
       "\n",
       "      Percentage of Grade 6 Students Achieving the Provincial Standard in Mathematics  \n",
       "mean                                            0.51554                                \n",
       "sum                                           567.61000                                \n",
       "min                                             0.00000                                \n",
       "max                                             1.00000                                "
      ]
     },
     "execution_count": 13,
     "metadata": {},
     "output_type": "execute_result"
    }
   ],
   "source": [
    "#Aggregating data for outcome variables\n",
    "cathdf[[\"Percentage of Grade 3 Students Achieving the Provincial Standard in Reading\",\"Percentage of Grade 3 Students Achieving the Provincial Standard in Writing\",\"Percentage of Grade 3 Students Achieving the Provincial Standard in Mathematics\",\"Percentage of Grade 6 Students Achieving the Provincial Standard in Reading\",\"Percentage of Grade 6 Students Achieving the Provincial Standard in Writing\",\"Percentage of Grade 6 Students Achieving the Provincial Standard in Mathematics\"]].aggregate({sum,min,max,np.mean})"
   ]
  },
  {
   "cell_type": "code",
   "execution_count": 14,
   "metadata": {},
   "outputs": [
    {
     "name": "stdout",
     "output_type": "stream",
     "text": [
      "[ 0.00979539 -0.12588065]\n",
      "[-1.2741395  -0.06050999 -0.01151115 -0.04272224 -0.0039332 ]\n",
      "-0.2785632166177668\n"
     ]
    }
   ],
   "source": [
    "#Model - Languages ~ Gr 3 Reading Achievement\n",
    "x_lang = cathdf[['Percentage of Students Whose First Language Is Not English','Percentage of Students Whose First Language Is Not French']]\n",
    "y_gr3_read = cathdf[\"Percentage of Grade 3 Students Achieving the Provincial Standard in Reading\"]\n",
    "model = linear_model.LinearRegression()\n",
    "model.fit(x_lang,y_gr3_read)\n",
    "print(model.coef_)\n",
    "r2_lang_Read3 = model.score(x_lang,y_gr3_read)\n",
    "scores = cross_val_score(model,x_lang,y_gr3_read, scoring='r2', cv=5)\n",
    "print(scores)\n",
    "print(scores.mean())"
   ]
  },
  {
   "cell_type": "code",
   "execution_count": 47,
   "metadata": {},
   "outputs": [
    {
     "name": "stdout",
     "output_type": "stream",
     "text": [
      "[0.06520823 0.03174698]\n",
      "[-1.29747522 -0.03907203 -0.00168108 -0.03444014 -0.03437389]\n",
      "-0.2814084731714222\n"
     ]
    }
   ],
   "source": [
    "#dep var is % of Grade 3 Students achieving standard in writing - Languages\n",
    "y_gr3_write = cathdf[\"Percentage of Grade 3 Students Achieving the Provincial Standard in Writing\"]\n",
    "model.fit(x_lang,y_gr3_write)\n",
    "print(model.coef_)\n",
    "r2_lang_Write3 =model.score(x_lang,y_gr3_write)\n",
    "scores = cross_val_score(model,x_lang,y_gr3_write, scoring='r2', cv=5)\n",
    "print(scores)\n",
    "print(scores.mean())"
   ]
  },
  {
   "cell_type": "code",
   "execution_count": 48,
   "metadata": {},
   "outputs": [
    {
     "name": "stdout",
     "output_type": "stream",
     "text": [
      "[ 0.01463313 -0.23952795]\n",
      "[-0.90097782 -0.04968527 -0.01216387 -0.13798643 -0.05167485]\n",
      "-0.23049764941060552\n"
     ]
    }
   ],
   "source": [
    "#dep var is % of Grade 3 Students achieving standard in Math - Languages\n",
    "y_gr3_math = cathdf[\"Percentage of Grade 3 Students Achieving the Provincial Standard in Mathematics\"]\n",
    "model.fit(x_lang,y_gr3_math)\n",
    "print(model.coef_)\n",
    "r2_lang_math3 = model.score(x_lang,y_gr3_math)\n",
    "scores = cross_val_score(model,x_lang,y_gr3_math, scoring='r2', cv=5)\n",
    "print(scores)\n",
    "print(scores.mean())"
   ]
  },
  {
   "cell_type": "code",
   "execution_count": 50,
   "metadata": {},
   "outputs": [
    {
     "name": "stdout",
     "output_type": "stream",
     "text": [
      "[-0.07487381 -0.22080167]\n",
      "[-3.25433665 -0.08174007 -0.01008846 -0.0887322  -0.00900596]\n",
      "-0.6887806689216079\n"
     ]
    }
   ],
   "source": [
    "#dep var is % of Grade 6 Students achieving standard in Reading - Languages\n",
    "y_gr6_read = cathdf[\"Percentage of Grade 6 Students Achieving the Provincial Standard in Reading\"]\n",
    "model1 = linear_model.LinearRegression()\n",
    "model1.fit(x_lang,y_gr6_read)\n",
    "print(model1.coef_)\n",
    "r2_lang_read6 = model1.score(x_lang,y_gr6_read)\n",
    "scores = cross_val_score(model1,x_lang,y_gr6_read, scoring='r2', cv=5)\n",
    "print(scores)\n",
    "print(scores.mean())"
   ]
  },
  {
   "cell_type": "code",
   "execution_count": 51,
   "metadata": {},
   "outputs": [
    {
     "name": "stdout",
     "output_type": "stream",
     "text": [
      "[0.03935836 0.15127023]\n",
      "[-4.78068462 -0.02935437 -0.0210009  -0.04745208 -0.07395621]\n",
      "-0.9904896355758923\n"
     ]
    }
   ],
   "source": [
    "#dep var is % of Grade 6 Students achieving standard in Writing - Languages\n",
    "y_gr6_write = cathdf[\"Percentage of Grade 6 Students Achieving the Provincial Standard in Writing\"]\n",
    "model.fit(x_lang,y_gr6_write)\n",
    "print(model.coef_)\n",
    "r2_lang_write6 = model.score(x_lang,y_gr6_write)\n",
    "scores = cross_val_score(model,x_lang,y_gr6_write, scoring='r2', cv=5)\n",
    "print(scores)\n",
    "print(scores.mean())"
   ]
  },
  {
   "cell_type": "code",
   "execution_count": 52,
   "metadata": {},
   "outputs": [
    {
     "name": "stdout",
     "output_type": "stream",
     "text": [
      "[ 0.05515024 -0.48366586]\n",
      "[ 0.1226507  -0.00104777 -0.03419557 -0.13608815 -0.05439156]\n",
      "-0.020614468827628074\n"
     ]
    }
   ],
   "source": [
    "#dep var is % of Grade 6 Students achieving standard in Math - Languages\n",
    "y_gr6_math = cathdf[\"Percentage of Grade 6 Students Achieving the Provincial Standard in Mathematics\"]\n",
    "model.fit(x_lang,y_gr6_math)\n",
    "print(model.coef_)\n",
    "r2_lang_math6 =model.score(x_lang,y_gr6_math)\n",
    "scores = cross_val_score(model,x_lang,y_gr6_math, scoring='r2', cv=5)\n",
    "print(scores)\n",
    "print(scores.mean())"
   ]
  },
  {
   "cell_type": "code",
   "execution_count": 53,
   "metadata": {},
   "outputs": [
    {
     "name": "stdout",
     "output_type": "stream",
     "text": [
      "[-0.2281534  -0.07031209]\n",
      "[-0.13556811 -0.03916151 -0.01795184 -0.05982677  0.05451895]\n",
      "-0.03959785419544406\n"
     ]
    }
   ],
   "source": [
    "#Model - Place of Birth\n",
    "x_birthctry = cathdf[['Percentage of Students Who Are New to Canada from a Non-English Speaking Country','Percentage of Students Who Are New to Canada from a Non-French Speaking Country']]\n",
    "model.fit(x_birthctry,y_gr3_read)\n",
    "print(model.coef_)\n",
    "r2_bc_read3 = model.score(x_birthctry,y_gr3_read)\n",
    "y_gr3read_pred = model.predict(x_birthctry)\n",
    "y_gr3read_pred\n",
    "scores = cross_val_score(model,x_birthctry,y_gr3_read, scoring='r2', cv=5)\n",
    "print(scores)\n",
    "print(scores.mean())"
   ]
  },
  {
   "cell_type": "code",
   "execution_count": 54,
   "metadata": {},
   "outputs": [
    {
     "name": "stdout",
     "output_type": "stream",
     "text": [
      "[-0.235923    0.06231066]\n",
      "[-0.01214583 -0.02934092 -0.01487593 -0.05994629  0.00842171]\n",
      "-0.021577451967984752\n"
     ]
    }
   ],
   "source": [
    "#dep var is Gr3 Writing\n",
    "model.fit(x_birthctry, y_gr3_write)\n",
    "print(model.coef_)\n",
    "r2_bc_write3 = model.score(x_birthctry, y_gr3_write)\n",
    "scores = cross_val_score(model,x_birthctry,y_gr3_write, scoring='r2', cv=5)\n",
    "print(scores)\n",
    "print(scores.mean())"
   ]
  },
  {
   "cell_type": "code",
   "execution_count": 55,
   "metadata": {},
   "outputs": [
    {
     "name": "stdout",
     "output_type": "stream",
     "text": [
      "[-0.28854831 -0.13571223]\n",
      "[-0.19153238 -0.01405196 -0.03352301 -0.22887027  0.07348673]\n",
      "-0.07889817946636321\n"
     ]
    }
   ],
   "source": [
    "#dep var is Gr3 Math\n",
    "model.fit(x_birthctry,y_gr3_math)\n",
    "print(model.coef_)\n",
    "r2_bc_math3 = model.score(x_birthctry, y_gr3_math)\n",
    "scores = cross_val_score(model,x_birthctry,y_gr3_math, scoring='r2', cv=5)\n",
    "print(scores)\n",
    "print(scores.mean())"
   ]
  },
  {
   "cell_type": "code",
   "execution_count": 56,
   "metadata": {},
   "outputs": [
    {
     "name": "stdout",
     "output_type": "stream",
     "text": [
      "[-0.1457634  -0.28517933]\n",
      "[-0.32840134 -0.01417089  0.03961896 -0.0768118   0.12358912]\n",
      "-0.05123519050531868\n"
     ]
    }
   ],
   "source": [
    "#dep var is Gr6 Reading\n",
    "model.fit(x_birthctry, y_gr6_read)\n",
    "print(model.coef_)\n",
    "r2_bc_read6 = model.score(x_birthctry, y_gr6_read)\n",
    "r2_bc_read6\n",
    "scores = cross_val_score(model,x_birthctry,y_gr6_read, scoring='r2', cv=5)\n",
    "print(scores)\n",
    "print(scores.mean())"
   ]
  },
  {
   "cell_type": "code",
   "execution_count": 57,
   "metadata": {},
   "outputs": [
    {
     "name": "stdout",
     "output_type": "stream",
     "text": [
      "[-0.03574673 -0.10802084]\n",
      "[-0.18452835 -0.10790639  0.01855739  0.00541624 -0.12179412]\n",
      "-0.07805104418498703\n"
     ]
    }
   ],
   "source": [
    "#dep var is Gr6 Writing\n",
    "model.fit(x_birthctry, y_gr6_write)\n",
    "print(model.coef_)\n",
    "r2_bc_write6 = model.score(x_birthctry, y_gr6_write)\n",
    "scores = cross_val_score(model,x_birthctry,y_gr6_write, scoring='r2', cv=5)\n",
    "print(scores)\n",
    "print(scores.mean())"
   ]
  },
  {
   "cell_type": "code",
   "execution_count": 59,
   "metadata": {},
   "outputs": [
    {
     "name": "stdout",
     "output_type": "stream",
     "text": [
      "[-0.34236521 -0.17787871]\n",
      "[-0.69070425 -0.0078101  -0.13350098 -0.35771269  0.07709175]\n",
      "-0.22252725341331842\n"
     ]
    }
   ],
   "source": [
    "#dep var is gr6 Math\n",
    "model.fit(x_birthctry,y_gr6_math)\n",
    "print(model.coef_)\n",
    "r2_bc_math6 = model.score(x_birthctry,y_gr6_math)\n",
    "scores = cross_val_score(model,x_birthctry,y_gr6_math, scoring='r2', cv=5)\n",
    "print(scores)\n",
    "print(scores.mean())"
   ]
  },
  {
   "cell_type": "code",
   "execution_count": 61,
   "metadata": {},
   "outputs": [
    {
     "name": "stdout",
     "output_type": "stream",
     "text": [
      "[-0.41343627]\n",
      "[-0.02825599  0.05861584  0.14703792  0.02869331  0.05461846]\n",
      "0.05214190635255171\n"
     ]
    }
   ],
   "source": [
    "#Model - Income\n",
    "x_income = cathdf[\"Percentage of School-Aged Children Who Live in Low-Income Households\"]\n",
    "x_income = x_income.array.reshape(-1,1)\n",
    "model.fit(x_income,y_gr3_read)\n",
    "print(model.coef_)\n",
    "r2_inc_read3 = model.score(x_income,y_gr3_read)\n",
    "scores = cross_val_score(model,x_income,y_gr3_read, scoring='r2', cv=5)\n",
    "print(scores)\n",
    "print(scores.mean())"
   ]
  },
  {
   "cell_type": "code",
   "execution_count": 60,
   "metadata": {},
   "outputs": [
    {
     "name": "stdout",
     "output_type": "stream",
     "text": [
      "[-0.42306918]\n",
      "[0.0766427  0.04784406 0.08914933 0.00793738 0.09154011]\n",
      "0.06262271453408026\n"
     ]
    }
   ],
   "source": [
    "#dep var is gr3 Writing\n",
    "model.fit(x_income,y_gr3_write)\n",
    "print(model.coef_)\n",
    "r2_inc_write3 = model.score(x_income,y_gr3_write)\n",
    "scores = cross_val_score(model,x_income,y_gr3_write, scoring='r2', cv=5)\n",
    "print(scores)\n",
    "print(scores.mean())"
   ]
  },
  {
   "cell_type": "code",
   "execution_count": 62,
   "metadata": {},
   "outputs": [
    {
     "name": "stdout",
     "output_type": "stream",
     "text": [
      "[-0.62029592]\n",
      "[-0.07868221  0.07693953  0.15785053 -0.05738869  0.15061072]\n",
      "0.04986597834389998\n"
     ]
    }
   ],
   "source": [
    "#dep var is gr3 Math\n",
    "model.fit(x_income, y_gr3_math)\n",
    "print(model.coef_)\n",
    "r2_inc_math3 = model.score(x_income,y_gr3_math)\n",
    "scores = cross_val_score(model,x_income,y_gr3_math, scoring='r2', cv=5)\n",
    "print(scores)\n",
    "print(scores.mean())"
   ]
  },
  {
   "cell_type": "code",
   "execution_count": 63,
   "metadata": {},
   "outputs": [
    {
     "name": "stdout",
     "output_type": "stream",
     "text": [
      "[-0.42587436]\n",
      "[-0.28749225  0.04726274  0.17130712  0.04566084  0.18171864]\n",
      "0.03169141859198312\n"
     ]
    }
   ],
   "source": [
    "#dep var is gr6 Reading\n",
    "model.fit(x_income,y_gr6_read)\n",
    "print(model.coef_)\n",
    "r2_inc_read6 = model.score(x_income,y_gr6_read)\n",
    "scores = cross_val_score(model,x_income,y_gr6_read, scoring='r2', cv=5)\n",
    "print(scores)\n",
    "print(scores.mean())"
   ]
  },
  {
   "cell_type": "code",
   "execution_count": 64,
   "metadata": {},
   "outputs": [
    {
     "name": "stdout",
     "output_type": "stream",
     "text": [
      "[-0.31899809]\n",
      "[-0.11063618 -0.0165849   0.15538543  0.061228    0.00046224]\n",
      "0.017970917124509222\n"
     ]
    }
   ],
   "source": [
    "#dep var is gr6 Writing\n",
    "model.fit(x_income,y_gr6_write)\n",
    "print(model.coef_)\n",
    "r2_inc_write6 = model.score(x_income,y_gr6_write)\n",
    "scores = cross_val_score(model,x_income,y_gr6_write, scoring='r2', cv=5)\n",
    "print(scores)\n",
    "print(scores.mean())"
   ]
  },
  {
   "cell_type": "code",
   "execution_count": 66,
   "metadata": {},
   "outputs": [
    {
     "name": "stdout",
     "output_type": "stream",
     "text": [
      "[-0.60891523]\n",
      "[-0.62983484  0.040745    0.04102667 -0.22687278  0.12994784]\n",
      "-0.1289976217986665\n"
     ]
    }
   ],
   "source": [
    "#dep var is gr6 math\n",
    "model.fit(x_income,y_gr6_math)\n",
    "print(model.coef_)\n",
    "r2_inc_math6 = model.score(x_income,y_gr6_math)\n",
    "scores = cross_val_score(model,x_income,y_gr6_math, scoring='r2', cv=5)\n",
    "print(scores)\n",
    "print(scores.mean())"
   ]
  },
  {
   "cell_type": "code",
   "execution_count": 67,
   "metadata": {},
   "outputs": [
    {
     "name": "stdout",
     "output_type": "stream",
     "text": [
      "[-0.68810206]\n",
      "[-0.13677846  0.11495145  0.10607651  0.01417115  0.05102978]\n",
      "0.029890085241403908\n"
     ]
    }
   ],
   "source": [
    "#model - Parent Education\n",
    "x_education = cathdf[\"Percentage of Students Whose Parents Have No Degree, Diploma or Certificate\"]\n",
    "x_education = x_education.array.reshape(-1,1)\n",
    "model.fit(x_education, y_gr3_read)\n",
    "print(model.coef_)\n",
    "r2_pe_read3 = model.score(x_education, y_gr3_read)\n",
    "scores = cross_val_score(model,x_education, y_gr3_read, scoring='r2', cv=5)\n",
    "print(scores)\n",
    "print(scores.mean())"
   ]
  },
  {
   "cell_type": "code",
   "execution_count": 68,
   "metadata": {},
   "outputs": [
    {
     "name": "stdout",
     "output_type": "stream",
     "text": [
      "[-0.72015489]\n",
      "[0.05597443 0.09760335 0.07218229 0.00257561 0.00424148]\n",
      "0.04651543418273372\n"
     ]
    }
   ],
   "source": [
    "#dep var is gr3 Writing\n",
    "model.fit(x_education, y_gr3_write)\n",
    "print(model.coef_)\n",
    "r2_pe_write3 = model.score(x_education, y_gr3_write)\n",
    "scores = cross_val_score(model,x_education, y_gr3_write, scoring='r2', cv=5)\n",
    "print(scores)\n",
    "print(scores.mean())"
   ]
  },
  {
   "cell_type": "code",
   "execution_count": 69,
   "metadata": {},
   "outputs": [
    {
     "name": "stdout",
     "output_type": "stream",
     "text": [
      "[-0.95449137]\n",
      "[-0.20393685  0.09599241  0.09087728 -0.09487657  0.12153986]\n",
      "0.0019192271355520153\n"
     ]
    }
   ],
   "source": [
    "#dep var is gr3 Math\n",
    "model.fit(x_education, y_gr3_math)\n",
    "print(model.coef_)\n",
    "r2_pe_math3 = model.score(x_education, y_gr3_math)\n",
    "scores = cross_val_score(model,x_education, y_gr3_math, scoring='r2', cv=5)\n",
    "print(scores)\n",
    "print(scores.mean())"
   ]
  },
  {
   "cell_type": "code",
   "execution_count": 70,
   "metadata": {},
   "outputs": [
    {
     "name": "stdout",
     "output_type": "stream",
     "text": [
      "[-0.7160126]\n",
      "[-0.42990797  0.11009336  0.13863591  0.01368384  0.14652974]\n",
      "-0.004193025123494643\n"
     ]
    }
   ],
   "source": [
    "#dep var is gr6 Read\n",
    "model.fit(x_education, y_gr6_read)\n",
    "print(model.coef_)\n",
    "r2_pe_read6 = model.score(x_education, y_gr6_read)\n",
    "scores = cross_val_score(model,x_education, y_gr6_read, scoring='r2', cv=5)\n",
    "print(scores)\n",
    "print(scores.mean())"
   ]
  },
  {
   "cell_type": "code",
   "execution_count": 71,
   "metadata": {},
   "outputs": [
    {
     "name": "stdout",
     "output_type": "stream",
     "text": [
      "[-0.60722665]\n",
      "[-0.08323651  0.04247693  0.14976138  0.03659201 -0.03473136]\n",
      "0.022172490445722958\n"
     ]
    }
   ],
   "source": [
    "#dep var is gr6 Write\n",
    "model.fit(x_education,y_gr6_write)\n",
    "print(model.coef_)\n",
    "r2_pe_write6 = model.score(x_education,y_gr6_write)\n",
    "scores = cross_val_score(model,x_education, y_gr6_write, scoring='r2', cv=5)\n",
    "print(scores)\n",
    "print(scores.mean())"
   ]
  },
  {
   "cell_type": "code",
   "execution_count": 72,
   "metadata": {},
   "outputs": [
    {
     "name": "stdout",
     "output_type": "stream",
     "text": [
      "[-1.04606172]\n",
      "[-0.68995568  0.04752131 -0.02664474 -0.20032654  0.12249408]\n",
      "-0.14938231324093942\n"
     ]
    }
   ],
   "source": [
    "#dep var is gr6 Math\n",
    "model.fit(x_education, y_gr6_math)\n",
    "print(model.coef_)\n",
    "r2_pe_math6 = model.score(x_education, y_gr6_math)\n",
    "scores = cross_val_score(model,x_education, y_gr6_math, scoring='r2', cv=5)\n",
    "print(scores)\n",
    "print(scores.mean())"
   ]
  },
  {
   "cell_type": "code",
   "execution_count": 38,
   "metadata": {},
   "outputs": [
    {
     "name": "stdout",
     "output_type": "stream",
     "text": [
      "Gr3 Reading: 0.04244939420296279 \n",
      "Gr3 Writing: 0.0036855371937832837 \n",
      "Gr3 Math 0.0833871653359074 \n",
      "Gr6 Reading 0.08169775768963217 \n",
      "Gr6 Writing: 0.039653424656259983 \n",
      "Gr6 Math 0.24724431852938622\n"
     ]
    }
   ],
   "source": [
    "#organizing r2 scores for base variables\n",
    "#language \n",
    "print(\"Gr3 Reading:\", r2_lang_Read3, \"\\nGr3 Writing:\", r2_lang_Write3,\"\\nGr3 Math\", r2_lang_math3,\"\\nGr6 Reading\",r2_lang_read6, \"\\nGr6 Writing:\",r2_lang_write6,\"\\nGr6 Math\", r2_lang_math6)"
   ]
  },
  {
   "cell_type": "code",
   "execution_count": 39,
   "metadata": {},
   "outputs": [
    {
     "name": "stdout",
     "output_type": "stream",
     "text": [
      "Gr3 Reading: 0.02725226937032532 \n",
      "Gr3 Writing: 0.0068556807627431215 \n",
      "Gr3 Math 0.030509233031776106 \n",
      "Gr6 Reading 0.07085298566654319 \n",
      "Gr6 Writing: 0.007150811717408945 \n",
      "Gr6 Math 0.030579137947813195\n"
     ]
    }
   ],
   "source": [
    "#Birth Country\n",
    "print(\"Gr3 Reading:\", r2_bc_read3, \"\\nGr3 Writing:\", r2_bc_write3,\"\\nGr3 Math\", r2_bc_math3,\"\\nGr6 Reading\",r2_bc_read6, \"\\nGr6 Writing:\",r2_bc_write6,\"\\nGr6 Math\", r2_bc_math6)"
   ]
  },
  {
   "cell_type": "code",
   "execution_count": 40,
   "metadata": {},
   "outputs": [
    {
     "name": "stdout",
     "output_type": "stream",
     "text": [
      "Gr3 Reading: 0.10880243283221636 \n",
      "Gr3 Writing: 0.07811576870614223 \n",
      "Gr3 Math 0.13655026263723413 \n",
      "Gr6 Reading 0.14646909977592804 \n",
      "Gr6 Writing: 0.07444147433943027 \n",
      "Gr6 Math 0.08783453398149088\n"
     ]
    }
   ],
   "source": [
    "#Income\n",
    "print(\"Gr3 Reading:\", r2_inc_read3, \"\\nGr3 Writing:\", r2_inc_write3,\"\\nGr3 Math\", r2_inc_math3,\"\\nGr6 Reading\",r2_inc_read6, \"\\nGr6 Writing:\",r2_inc_write6,\"\\nGr6 Math\", r2_inc_math6)"
   ]
  },
  {
   "cell_type": "code",
   "execution_count": 41,
   "metadata": {},
   "outputs": [
    {
     "name": "stdout",
     "output_type": "stream",
     "text": [
      "Gr3 Reading: 0.08725546953675845 \n",
      "Gr3 Writing: 0.06552895550302162 \n",
      "Gr3 Math 0.09360610923731205 \n",
      "Gr6 Reading 0.11986430001458281 \n",
      "Gr6 Writing: 0.07809189220056156 \n",
      "Gr6 Math 0.07504672505047094\n"
     ]
    }
   ],
   "source": [
    "#Parent Education\n",
    "print(\"Gr3 Reading:\", r2_pe_read3, \"\\nGr3 Writing:\", r2_pe_write3,\"\\nGr3 Math\", r2_pe_math3,\"\\nGr6 Reading\",r2_pe_read6, \"\\nGr6 Writing:\",r2_pe_write6,\"\\nGr6 Math\", r2_pe_math6)"
   ]
  },
  {
   "cell_type": "code",
   "execution_count": 42,
   "metadata": {},
   "outputs": [
    {
     "name": "stdout",
     "output_type": "stream",
     "text": [
      "0.25147855737312885\n",
      "-1.626278676582337\n",
      "-0.6208077684284596\n",
      "0.0978714265848526\n",
      "-3.7207362376040667\n",
      "-3.5518646607271833\n"
     ]
    }
   ],
   "source": [
    "#using combined groups of variables in model\n",
    "x_total = cathdf[[ 'Percentage of Students Whose First Language Is Not English',\n",
    "       'Percentage of Students Whose First Language Is Not French','Percentage of Students Who Are New to Canada from a Non-English Speaking Country',\n",
    "       'Percentage of Students Who Are New to Canada from a Non-French Speaking Country',\n",
    "       'Percentage of School-Aged Children Who Live in Low-Income Households',\n",
    "       'Percentage of Students Whose Parents Have No Degree, Diploma or Certificate']]\n",
    "\n",
    "model.fit(x_total, y_gr3_math)\n",
    "print(model.score(x_total,y_gr3_math))\n",
    "print(model.score(x_total,y_gr3_read))\n",
    "print(model.score(x_total,y_gr3_write))\n",
    "print(model.score(x_total, y_gr6_math))\n",
    "print(model.score(x_total, y_gr6_read))\n",
    "print(model.score(x_total,y_gr6_write))\n"
   ]
  },
  {
   "cell_type": "code",
   "execution_count": 73,
   "metadata": {},
   "outputs": [
    {
     "name": "stdout",
     "output_type": "stream",
     "text": [
      "[ 0.19222475  0.04719719 -0.08176277  0.11466089 -0.36410257 -0.4234195 ]\n",
      "[0.15826263 0.16145826 0.11878086 0.21392464 0.20669071]\n",
      "0.17182341930889117\n"
     ]
    }
   ],
   "source": [
    "#splitting train and test\n",
    "x_ = x_total\n",
    "y_1 = y_gr3_read\n",
    "X_train, X_test, Y_1_train, Y_1_test = train_test_split(x_, y_1, test_size=0.33, random_state=1)\n",
    "model.fit(X_train, Y_1_train)\n",
    "model.predict(X_test)\n",
    "model.score(X_test,Y_1_test)\n",
    "print(model.coef_)\n",
    "scores = cross_val_score(model,X_train,Y_1_train, scoring='r2', cv=5)\n",
    "print(scores)\n",
    "print(scores.mean())\n"
   ]
  },
  {
   "cell_type": "code",
   "execution_count": 75,
   "metadata": {},
   "outputs": [
    {
     "name": "stdout",
     "output_type": "stream",
     "text": [
      "[ 0.25486498  0.19322534  0.08482311 -0.0272556  -0.51490357 -0.40007199]\n",
      "[0.1835473  0.1291415  0.11650102 0.06962682 0.13622543]\n",
      "0.1270084133370694\n"
     ]
    }
   ],
   "source": [
    "#testing with all grade 3 and 6 outcomes\n",
    "y_2 = y_gr3_write\n",
    "X1_train, X1_test, Y_2_train, Y_2_test = train_test_split(x_, y_2, test_size=0.33,random_state=2)\n",
    "model.fit(X1_train, Y_2_train)\n",
    "model.predict(X1_test)\n",
    "model.score(X1_test, Y_2_test)\n",
    "print(model.coef_)\n",
    "scores = cross_val_score(model,X1_train,Y_2_train, scoring='r2', cv=5)\n",
    "print(scores)\n",
    "print(scores.mean())"
   ]
  },
  {
   "cell_type": "code",
   "execution_count": 76,
   "metadata": {},
   "outputs": [
    {
     "name": "stdout",
     "output_type": "stream",
     "text": [
      "[ 0.02193875  0.0021368  -0.01557797  0.16331435 -0.12699745  0.17614646]\n",
      "[0.25861536 0.2856357  0.2758694  0.05326496 0.27709727]\n",
      "0.23009653706354696\n"
     ]
    }
   ],
   "source": [
    "y_3 = y_gr3_math\n",
    "X2_train, X2_test, Y_3_train, Y_3_test = train_test_split(x_, y_3, test_size=.33, random_state=3)\n",
    "model.fit(X2_train, Y_2_train)\n",
    "model.predict(X2_test)\n",
    "model.score(X2_test,Y_3_test)\n",
    "scores = cross_val_score(model,X2_train,Y_3_train, scoring='r2', cv=5)\n",
    "print(model.coef_)\n",
    "print(scores)\n",
    "print(scores.mean())"
   ]
  },
  {
   "cell_type": "code",
   "execution_count": 94,
   "metadata": {},
   "outputs": [
    {
     "name": "stdout",
     "output_type": "stream",
     "text": [
      "[ 0.11087472 -0.05427573  0.05857684 -0.20896675 -0.263415   -0.45365802]\n",
      "[0.34884965 0.13946517 0.2631812  0.04210293 0.25507663]\n",
      "0.2097351170612874\n",
      "0.17742766499650786\n",
      "[ 0.21951774  0.27321727  0.14747021 -0.1515632  -0.32081684 -0.45931063]\n",
      "[0.23613298 0.05747703 0.05960318 0.05924955 0.25238339]\n",
      "0.1329692262302242\n",
      "0.3845598313884897\n",
      "[ 0.33929246 -0.21175415 -0.05391807  0.0069677  -0.49076488 -0.64727749]\n",
      "[0.39364642 0.36762954 0.35255034 0.12569449 0.34937259]\n",
      "0.31777867820790184\n"
     ]
    }
   ],
   "source": [
    "y_4 =  y_gr6_read\n",
    "y_5 = y_gr6_write\n",
    "y_6 = y_gr6_math\n",
    "\n",
    "\n",
    "X3_train, X3_test, Y_4_train, Y_4_test = train_test_split(x_, y_4, test_size=0.33, random_state=3)\n",
    "model.fit(X3_train, Y_4_train)\n",
    "model.predict(X3_test)\n",
    "scores = cross_val_score(model,X3_train,Y_4_train, scoring='r2', cv=5)\n",
    "\n",
    "print(model.coef_)\n",
    "print(scores)\n",
    "print(scores.mean())\n",
    "\n",
    "\n",
    "X4_train, X4_test, Y_5_train, Y_5_test = train_test_split(x_, y_5, test_size=0.33,random_state=3)\n",
    "model.fit(X4_train, Y_5_train)\n",
    "model.predict(X4_test)\n",
    "print(model.score(X4_test,Y_5_test))\n",
    "scores = cross_val_score(model,X4_train,Y_5_train, scoring='r2', cv=5)\n",
    "print(model.coef_)\n",
    "print(scores)\n",
    "print(scores.mean())\n",
    "\n",
    "\n",
    "X5_train, X5_test, Y_6_train, Y_6_test = train_test_split(x_, y_6, test_size=0.33, random_state=3)\n",
    "model.fit(X5_train, Y_6_train)\n",
    "model.predict(X5_test)\n",
    "print(model.score(X5_test,Y_6_test))\n",
    "scores = cross_val_score(model,X5_train,Y_6_train, scoring='r2', cv=5)\n",
    "print(model.coef_)\n",
    "print(scores)\n",
    "print(scores.mean())"
   ]
  }
 ],
 "metadata": {
  "kernelspec": {
   "display_name": "Python 3.10.0 64-bit",
   "language": "python",
   "name": "python3"
  },
  "language_info": {
   "codemirror_mode": {
    "name": "ipython",
    "version": 3
   },
   "file_extension": ".py",
   "mimetype": "text/x-python",
   "name": "python",
   "nbconvert_exporter": "python",
   "pygments_lexer": "ipython3",
   "version": "3.10.0"
  },
  "orig_nbformat": 4,
  "vscode": {
   "interpreter": {
    "hash": "9e9ffc9a5c38d8c76e63580f0cc4527c01c1c66d95702a45cbfd39664d754ffa"
   }
  }
 },
 "nbformat": 4,
 "nbformat_minor": 2
}
